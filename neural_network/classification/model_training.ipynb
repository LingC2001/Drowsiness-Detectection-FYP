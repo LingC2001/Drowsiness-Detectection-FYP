{
 "cells": [
  {
   "cell_type": "code",
   "execution_count": 111,
   "metadata": {},
   "outputs": [],
   "source": [
    "import torch\n",
    "from torch.utils.data import Dataset, DataLoader\n",
    "import torch\n",
    "import torch.nn as nn\n",
    "import torch.nn.functional as F\n",
    "import torch.optim as optim\n",
    "import torchvision\n",
    "import torchvision.transforms as transforms\n",
    "\n",
    "import os\n",
    "import random\n",
    "import numpy as np\n",
    "import matplotlib.pyplot as plt\n",
    "from IPython.display import clear_output\n",
    "\n",
    "import math\n",
    "from copy import deepcopy\n",
    "\n",
    "import pandas as pd"
   ]
  },
  {
   "cell_type": "code",
   "execution_count": 112,
   "metadata": {},
   "outputs": [],
   "source": [
    "class DrowsinessData(Dataset):\n",
    "    def __init__(self,data, trn_val_tst, transform=None):\n",
    "\n",
    "        # split_idx1 = int(data.shape[0]*0.6)\n",
    "        # split_idx2 = int(data.shape[0]*0.8)\n",
    "        # if trn_val_tst == 0:\n",
    "        #     #trainloader\n",
    "        #     self.X = data.iloc[0:split_idx1, 0:-1].to_numpy()\n",
    "        #     self.labels = data.iloc[0:split_idx1, -1].to_numpy()\n",
    "        # elif trn_val_tst == 1:\n",
    "        #     #valloader\n",
    "        #     self.X = data.iloc[split_idx1:split_idx2, 0:-1].to_numpy()\n",
    "        #     self.labels = data.iloc[split_idx1:split_idx2, -1].to_numpy()\n",
    "        # else:\n",
    "        #     #testloader\n",
    "        #     self.X = data.iloc[split_idx1:split_idx2, 0:-1].to_numpy()\n",
    "        #     self.labels = data.iloc[split_idx1:split_idx2, -1].to_numpy()\n",
    "\n",
    "        self.X = data.iloc[:, 0:-1].to_numpy()\n",
    "        self.labels = data.iloc[:, -1].to_numpy()\n",
    "        self.labels[self.labels < 6.5] = 0\n",
    "        self.labels[self.labels >= 6.5] = 1\n",
    "\n",
    "        self.transform = transform\n",
    "\n",
    "    def __len__(self):\n",
    "        return len(self.labels)\n",
    "\n",
    "    def __getitem__(self, idx):\n",
    "        if torch.is_tensor(idx):\n",
    "            idx = idx.tolist()\n",
    "\n",
    "        sample = self.X[idx,:]\n",
    "        label = self.labels[idx]\n",
    "\n",
    "        # if self.transform:\n",
    "        #     sample = self.transform(sample)\n",
    "        sample = torch.from_numpy(sample).type(torch.float32)\n",
    "        label = torch.tensor(label, dtype=torch.float32).unsqueeze(0)\n",
    "\n",
    "        return sample, label"
   ]
  },
  {
   "cell_type": "code",
   "execution_count": 113,
   "metadata": {},
   "outputs": [
    {
     "name": "stdout",
     "output_type": "stream",
     "text": [
      "(2226, 31)\n",
      "(605, 31)\n",
      "(697, 31)\n"
     ]
    }
   ],
   "source": [
    "train_data = pd.read_csv(\"../Features_and_Labels/30s/train_features_and_labels_30s.csv\")\n",
    "valid_data = pd.read_csv(\"../Features_and_Labels/30s/valid_features_and_labels_30s.csv\")\n",
    "test_data = pd.read_csv(\"../Features_and_Labels/30s/test_features_and_labels_30s.csv\")\n",
    "\n",
    "\n",
    "filter_features = {\n",
    "    \"mrmr\": {\n",
    "        \"30\": ['Sh_Ent1', 'MDF', 'bandPower(){}_2_beta', 'lf_hf_ratio', 'LZC(){}_1', 'MNF', 'sampEn(){}_2', 'PKF', 'ZC', 'csi', 'bandPower(){}_2_alpha', 'DFA(){}_2', 'Sh_Ent0', 'Sp_ent2', \n",
    "               'blinking_rate', 'LZC(){}_2', 'WENT', 'hjorthMobility(){}_2', 'bandPower(){}_1_beta', 'pnni_20', 'PFD(){}_1', 'hjorthComplexity(){}_2', 'bandPower(){}_2_theta', 'wave_ent2', \n",
    "               'lfnu', 'LOG', 'HFD(){}_2', 'pnni_50', 'bandPower(){}_1_alpha', 'sampEn(){}_1', 'kss']\n",
    "    },\n",
    "    \"kbest\": {\n",
    "        \"30\": ['bandPower(){}_1_alpha', 'bandPower(){}_1_beta', 'bandPower(){}_2_theta', 'bandPower(){}_2_alpha', 'bandPower(){}_2_beta', 'hjorthMobility(){}_1', 'hjorthMobility(){}_2', \n",
    "        'hjorthComplexity(){}_2', 'sampEn(){}_1', 'sampEn(){}_2', 'DFA(){}_2', 'PFD(){}_1', 'PFD(){}_2', 'LZC(){}_1', 'LZC(){}_2', 'Sh_Ent0', 'fuzzy0', 'Sp_ent2', 'wave_ent2', 'lf_hf_ratio', \n",
    "        'lfnu', 'csi', 'LOG', 'ZC', 'MYOP', 'MNF', 'MDF', 'PKF', 'WENT', 'blinking_rate', 'kss']\n",
    "    }\n",
    "}\n",
    "\n",
    "ttest_features = [\"bandPower(){}_0_theta\", \"bandPower(){}_0_alpha\", \"bandPower(){}_0_beta\",\t\"bandPower(){}_1_delta\", \"bandPower(){}_2_alpha\", \"bandPower(){}_2_beta\", \n",
    "                  \"hjorthActivity(){}_1\", \"hjorthActivity(){}_2\", \"hjorthMobility(){}_0\", \"hjorthMobility(){}_2\", \"hjorthComplexity(){}_0\",\t\"hjorthComplexity(){}_2\", \"sampEn(){}_2\", \n",
    "                  \"DFA(){}_0\", \"DFA(){}_2\", \"PFD(){}_2\", \"LZC(){}_0\", \"LZC(){}_1\",\t\"LZC(){}_2\", \"fuzzy0\", \"Sp_ent0\", \"EEG_kurt0\",\t\"Sp_ent1\",\t\"wave_ent1\", \"EEG_kurt1\", \"Multiscale2\", \n",
    "                  \"Sp_ent2\", \"wave_ent2\", \"EEG_mean2\", \"EEG_kurt2\", \"cvnni\",\t\"max_hr\", \"nni_20\",\t\"nni_50\", \"pnni_20\", \"pnni_50\",\t\"range_nni\", \"fuzzy\",\t\"sdsd\",\t\"std_hr\", \"lf\",\t\"hf\", \n",
    "                  \"lf_hf_ratio\", \"lfnu\", \"total_power\",\t\"vlf\",\t\"csi\",\t\"RMS\", \"IEMG\",\t\"MAV\",\t\"LOG\",\t\"ZC\", \"WAMP\", \"MNF\", \"MDF\",\t\"PKF\", \"WENT\", \"blinking_rate\",\t\"MAR_mean\",\t\"vtilt_mean\", \n",
    "                  \"htilt_std\", \"kss\"]\n",
    "\n",
    "\n",
    "train_data = train_data.loc[:, filter_features[\"kbest\"][\"30\"]]\n",
    "valid_data = valid_data.loc[:, filter_features[\"kbest\"][\"30\"]]\n",
    "test_data = test_data.loc[:, filter_features[\"kbest\"][\"30\"]]\n",
    "\n",
    "print(train_data.shape)\n",
    "print(valid_data.shape)\n",
    "print(test_data.shape)\n",
    "\n",
    "train_data = train_data.sample(frac=1).reset_index(drop=True)\n",
    "valid_data = valid_data.sample(frac=1).reset_index(drop=True)\n",
    "\n",
    "train_set = DrowsinessData(train_data, trn_val_tst=0) \n",
    "val_set = DrowsinessData(valid_data, trn_val_tst=1)\n",
    "test_set = DrowsinessData(test_data, trn_val_tst=2)\n",
    "\n",
    "batch_size = 100 \n",
    "trainloader = DataLoader(train_set, batch_size=batch_size, shuffle=True)\n",
    "\n",
    "validloader = DataLoader(val_set, batch_size=batch_size, shuffle=False)\n",
    "\n",
    "testloader =  DataLoader(test_set, batch_size=batch_size, shuffle=False)\n",
    "\n",
    "num_features = train_set.X.shape[1]"
   ]
  },
  {
   "cell_type": "code",
   "execution_count": 114,
   "metadata": {},
   "outputs": [],
   "source": [
    "#This function should perform a single evaluation epoch, it WILL NOT be used to train our model\n",
    "def evaluate(model, device, loader, loss_fun):\n",
    "    \n",
    "    #initialise counter\n",
    "    epoch_acc = 0\n",
    "    total_loss = 0\n",
    "    total_count = 0\n",
    "    \n",
    "    #Set network in evaluation mode\n",
    "    #Layers like Dropout will be disabled\n",
    "    #Layers like Batchnorm will stop calculating running mean and standard deviation\n",
    "    #and use current stored values\n",
    "    #(More on these layer types soon!)\n",
    "    model.eval()\n",
    "    \n",
    "    with torch.no_grad():\n",
    "        for i, (x, y) in enumerate(loader):\n",
    "            #Forward pass of image through network\n",
    "            fx = model(x.to(device))\n",
    "            y = y.type(torch.FloatTensor)\n",
    "            \n",
    "            #log the cumulative sum of the acc\n",
    "            epoch_acc += (np.round(fx.cpu().detach()) == y).sum()\n",
    "            total_count += y.shape[0]\n",
    "            \n",
    "            #calculate the loss\n",
    "            loss = loss_fun(fx, y.to(device))\n",
    "            total_loss += loss.item()\n",
    "    #return the accuracy from the epoch     \n",
    "    return epoch_acc / total_count, total_loss"
   ]
  },
  {
   "cell_type": "code",
   "execution_count": 115,
   "metadata": {},
   "outputs": [],
   "source": [
    "#This function should perform a single training epoch using our training data\n",
    "def train(model, device, loader, optimizer, loss_fun, loss_logger):\n",
    "    \n",
    "    #Set Network in train mode\n",
    "    model.train()\n",
    "    \n",
    "    count = 0\n",
    "    total_loss = 0\n",
    "    \n",
    "    for i, (x, y) in enumerate(loader):\n",
    "        #Perform a single epoch of training on the input dataloader, logging the loss at every step \n",
    "        #Forward pass of image through network and get output\n",
    "        fx = model(x.to(device))\n",
    "        y = y.type(torch.FloatTensor)\n",
    "\n",
    "        #Calculate loss using loss function\n",
    "        loss = loss_fun(fx, y.to(device))\n",
    "        \n",
    "        total_loss += loss.item()\n",
    "        \n",
    "        #Zero Gradents\n",
    "        optimizer.zero_grad()\n",
    "        #Backpropagate Gradents\n",
    "        loss.backward()\n",
    "        #Do a single optimization step\n",
    "        optimizer.step()\n",
    "\n",
    "    #log the loss PER EPOCH for plotting\n",
    "    loss_logger.append(total_loss)\n",
    "   \n",
    "    #return the logger array       \n",
    "    return loss_logger"
   ]
  },
  {
   "cell_type": "code",
   "execution_count": 116,
   "metadata": {},
   "outputs": [],
   "source": [
    "class DrowsyNet(nn.Module):\n",
    "    def __init__(self, channels_in):\n",
    "        # calling the init function of the parent nn.Module\n",
    "        super(DrowsyNet, self).__init__()\n",
    "        \n",
    "        # defining the fully connected layers\n",
    "        print(channels_in)\n",
    "        self.fc1 = nn.Linear(int(channels_in), int(channels_in//1.5))\n",
    "        self.fc2 = nn.Linear(int(channels_in//1.5), int(channels_in//3))\n",
    "        self.fc3 = nn.Linear(int(channels_in//3), 1)\n",
    "        self.sigmoid = nn.Sigmoid()\n",
    "        \n",
    "    def forward(self, x):\n",
    "        # Passing it through fc layers\n",
    "        x = self.fc1(x)\n",
    "        x = F.relu(x)\n",
    "        x = self.fc2(x)\n",
    "        x = F.relu(x)\n",
    "        x = self.fc3(x)\n",
    "        x = self.sigmoid(x)\n",
    "        return x"
   ]
  },
  {
   "cell_type": "code",
   "execution_count": 117,
   "metadata": {},
   "outputs": [
    {
     "name": "stdout",
     "output_type": "stream",
     "text": [
      "30\n",
      "DrowsyNet(\n",
      "  (fc1): Linear(in_features=30, out_features=20, bias=True)\n",
      "  (fc2): Linear(in_features=20, out_features=10, bias=True)\n",
      "  (fc3): Linear(in_features=10, out_features=1, bias=True)\n",
      "  (sigmoid): Sigmoid()\n",
      ")\n",
      "841 841\n"
     ]
    }
   ],
   "source": [
    "# Creating the model\n",
    "GPU_indx = 0\n",
    "device = torch.device(GPU_indx if torch.cuda.is_available() else 'cpu')\n",
    "model = DrowsyNet(num_features).to(device)\n",
    "print(model)\n",
    "\n",
    "pytorch_total_params = sum([p.numel() for p in model.parameters()])\n",
    "pytorch_total_trainable_params = sum([p.numel() for p in model.parameters() if p.requires_grad])\n",
    "print(pytorch_total_params, pytorch_total_trainable_params)\n",
    "\n",
    "learning_rate =1e-5\n",
    "start_epoch = 0\n",
    "num_epochs = 500\n",
    "\n",
    "optimizer = optim.Adam(model.parameters(), lr = learning_rate)\n",
    "loss_fun = nn.BCELoss()"
   ]
  },
  {
   "cell_type": "code",
   "execution_count": 118,
   "metadata": {},
   "outputs": [
    {
     "name": "stdout",
     "output_type": "stream",
     "text": [
      "| Epoch: 500 | Training Loss: 08.66 | Validation Loss: 04.54 | Testing Loss: 04.73\n",
      "| Epoch: 500 | Training Acc: 85.98% | Validation Acc: 75.70% | Testing Acc: 67.58%\n",
      "Training Complete\n",
      "Lowest Validation Loss: 4.5005218386650085\n"
     ]
    }
   ],
   "source": [
    "training_loss_logger = []\n",
    "validation_loss_logger = []\n",
    "testing_loss_logger = []\n",
    "\n",
    "valid_acc_logger = []\n",
    "test_acc_logger = []\n",
    "\n",
    "loewst_val_loss = math.inf\n",
    "\n",
    "\n",
    "#This cell implements our training loop\n",
    "for epoch in range(start_epoch, num_epochs):\n",
    "    #call the training function and pass training dataloader etc\n",
    "    training_loss_logger = train(model, device, trainloader, optimizer, loss_fun, training_loss_logger)\n",
    "    train_acc, _ = evaluate(model, device, trainloader, loss_fun)\n",
    "    #call the evaluate function and pass the dataloader for both ailidation and training\n",
    "    \n",
    "    valid_acc, valid_loss = evaluate(model, device, validloader, loss_fun)\n",
    "    validation_loss_logger.append(valid_loss)\n",
    "    valid_acc_logger.append(valid_acc)\n",
    "\n",
    "\n",
    "    test_acc, test_loss = evaluate(model, device, testloader, loss_fun)\n",
    "    testing_loss_logger.append(test_loss)\n",
    "    test_acc_logger.append(test_acc)\n",
    "\n",
    "    if epoch == 300:\n",
    "        learning_rate /=10\n",
    "        optimizer = optim.Adam(model.parameters(), lr = learning_rate)\n",
    "\n",
    "    # Copying the model with the highest validation accuracy\n",
    "    if valid_loss < loewst_val_loss:\n",
    "        lowest_val_loss_epoch = epoch\n",
    "        loewst_val_loss = valid_loss\n",
    "        lowest_val_loss_model = deepcopy(model)\n",
    "    \n",
    "    clear_output(True)\n",
    "    print(f'| Epoch: {epoch+1:02} | Training Loss: {training_loss_logger[-1]:05.2f} | Validation Loss: {validation_loss_logger[-1]:05.2f} | Testing Loss: {testing_loss_logger[-1]:05.2f}')\n",
    "    print(f'| Epoch: {epoch+1:02} | Training Acc: {train_acc*100:05.2f}% | Validation Acc: {valid_acc*100:05.2f}% | Testing Acc: {test_acc*100:05.2f}%')\n",
    "print(\"Training Complete\")\n",
    "print(f'Lowest Validation Loss: {loewst_val_loss}')"
   ]
  },
  {
   "cell_type": "code",
   "execution_count": 120,
   "metadata": {},
   "outputs": [
    {
     "data": {
      "text/plain": [
       "Text(0.5, 1.0, 'Testing Accuracy')"
      ]
     },
     "execution_count": 120,
     "metadata": {},
     "output_type": "execute_result"
    },
    {
     "data": {
      "image/png": "[encoded data removed]",
      "text/plain": [
       "<Figure size 432x288 with 1 Axes>"
      ]
     },
     "metadata": {
      "needs_background": "light"
     },
     "output_type": "display_data"
    },
    {
     "data": {
      "image/png": "[encoded data removed]",
      "text/plain": [
       "<Figure size 432x288 with 1 Axes>"
      ]
     },
     "metadata": {
      "needs_background": "light"
     },
     "output_type": "display_data"
    },
    {
     "data": {
      "image/png": "[encoded data removed]",
      "text/plain": [
       "<Figure size 432x288 with 1 Axes>"
      ]
     },
     "metadata": {
      "needs_background": "light"
     },
     "output_type": "display_data"
    },
    {
     "data": {
      "image/png": "[encoded data removed]",
      "text/plain": [
       "<Figure size 432x288 with 1 Axes>"
      ]
     },
     "metadata": {
      "needs_background": "light"
     },
     "output_type": "display_data"
    },
    {
     "data": {
      "image/png": "[encoded data removed]",
      "text/plain": [
       "<Figure size 432x288 with 1 Axes>"
      ]
     },
     "metadata": {
      "needs_background": "light"
     },
     "output_type": "display_data"
    }
   ],
   "source": [
    "# Plotting\n",
    "plt.figure(1)\n",
    "plt.plot(training_loss_logger)\n",
    "plt.ylabel(\"MSE Loss\")\n",
    "plt.xlabel(\"Epoch\")\n",
    "plt.title(\"Training Loss\")\n",
    "\n",
    "plt.figure(2)\n",
    "plt.plot(validation_loss_logger)\n",
    "plt.ylabel(\"MSE Loss\")\n",
    "plt.xlabel(\"Epoch\")\n",
    "plt.title(\"Validation Loss\")\n",
    "plt.plot(lowest_val_loss_epoch, loewst_val_loss, \"ro\")\n",
    "\n",
    "plt.figure(22)\n",
    "plt.plot(valid_acc_logger)\n",
    "plt.ylabel(\"Accuracy %\")\n",
    "plt.xlabel(\"Epoch\")\n",
    "plt.title(\"Validation Accuracy\")\n",
    "\n",
    "\n",
    "plt.figure(3)\n",
    "plt.plot(testing_loss_logger)\n",
    "plt.ylabel(\"MSE Loss\")\n",
    "plt.xlabel(\"Epoch\")\n",
    "plt.title(\"Testing Loss\")\n",
    "\n",
    "plt.figure(33)\n",
    "plt.plot(test_acc_logger)\n",
    "plt.ylabel(\"Accuracy %\")\n",
    "plt.xlabel(\"Epoch\")\n",
    "plt.title(\"Testing Accuracy\")"
   ]
  },
  {
   "cell_type": "code",
   "execution_count": 121,
   "metadata": {},
   "outputs": [],
   "source": [
    "# Saving model\n",
    "torch.save(lowest_val_loss_model.state_dict(), \"D:/School/Drowsiness-Detection-FYP/neural_network/classification/best_model.pt\")\n"
   ]
  },
  {
   "cell_type": "code",
   "execution_count": null,
   "metadata": {},
   "outputs": [],
   "source": []
  }
 ],
 "metadata": {
  "kernelspec": {
   "display_name": ".venv",
   "language": "python",
   "name": "python3"
  },
  "language_info": {
   "codemirror_mode": {
    "name": "ipython",
    "version": 3
   },
   "file_extension": ".py",
   "mimetype": "text/x-python",
   "name": "python",
   "nbconvert_exporter": "python",
   "pygments_lexer": "ipython3",
   "version": "3.10.11"
  },
  "orig_nbformat": 4
 },
 "nbformat": 4,
 "nbformat_minor": 2
}
