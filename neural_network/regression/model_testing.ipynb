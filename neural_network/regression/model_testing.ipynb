{
 "cells": [
  {
   "cell_type": "code",
   "execution_count": 88,
   "metadata": {},
   "outputs": [],
   "source": [
    "import torch\n",
    "from torch.utils.data import Dataset, DataLoader\n",
    "import torch\n",
    "import torch.nn as nn\n",
    "import torch.nn.functional as F\n",
    "import torch.optim as optim\n",
    "import torchvision\n",
    "import torchvision.transforms as transforms\n",
    "\n",
    "import os\n",
    "import random\n",
    "import numpy as np\n",
    "import matplotlib.pyplot as plt\n",
    "from IPython.display import clear_output\n",
    "\n",
    "import math\n",
    "from copy import deepcopy\n",
    "\n",
    "import pandas as pd"
   ]
  },
  {
   "cell_type": "code",
   "execution_count": 89,
   "metadata": {},
   "outputs": [],
   "source": [
    "class DrowsinessData(Dataset):\n",
    "    def __init__(self,data, trn_val_tst, transform=None):\n",
    "\n",
    "        # split_idx1 = int(data.shape[0]*0.6)\n",
    "        # split_idx2 = int(data.shape[0]*0.8)\n",
    "        # if trn_val_tst == 0:\n",
    "        #     #trainloader\n",
    "        #     self.X = data.iloc[0:split_idx1, 0:-1].to_numpy()\n",
    "        #     self.labels = data.iloc[0:split_idx1, -1].to_numpy()\n",
    "        # elif trn_val_tst == 1:\n",
    "        #     #valloader\n",
    "        #     self.X = data.iloc[split_idx1:split_idx2, 0:-1].to_numpy()\n",
    "        #     self.labels = data.iloc[split_idx1:split_idx2, -1].to_numpy()\n",
    "        # else:\n",
    "        #     #testloader\n",
    "        #     self.X = data.iloc[split_idx1:split_idx2, 0:-1].to_numpy()\n",
    "        #     self.labels = data.iloc[split_idx1:split_idx2, -1].to_numpy()\n",
    "\n",
    "        self.X = data.iloc[:, 0:-1].to_numpy()\n",
    "        self.labels = data.iloc[:, -1].to_numpy()\n",
    "\n",
    "        self.transform = transform\n",
    "\n",
    "    def __len__(self):\n",
    "        return len(self.labels)\n",
    "\n",
    "    def __getitem__(self, idx):\n",
    "        if torch.is_tensor(idx):\n",
    "            idx = idx.tolist()\n",
    "\n",
    "        sample = self.X[idx,:]\n",
    "        label = self.labels[idx]\n",
    "\n",
    "        # if self.transform:\n",
    "        #     sample = self.transform(sample)\n",
    "        sample = torch.from_numpy(sample).type(torch.float32)\n",
    "        label = torch.tensor(label, dtype=torch.float32).unsqueeze(0)\n",
    "\n",
    "        return sample, label"
   ]
  },
  {
   "cell_type": "code",
   "execution_count": 90,
   "metadata": {},
   "outputs": [
    {
     "name": "stdout",
     "output_type": "stream",
     "text": [
      "(697, 61)\n"
     ]
    }
   ],
   "source": [
    "test_data = pd.read_csv(\"../Features_and_Labels/30s/test_features_and_labels_30s.csv\")\n",
    "\n",
    "\n",
    "filter_features = {\n",
    "    \"mrmr\": {\n",
    "        \"15\": ['MDF', 'bandPower(){}_2_beta', 'bandPower(){}_1_beta', 'MNF', 'csi', 'Sp_ent2', 'pnni_50', 'ZC', 'PKF', 'sampEn(){}_2', 'bandPower(){}_2_alpha', 'LZC(){}_1', 'Sp_ent1', \n",
    "                   'nni_50', 'fuzzy0', 'kss'],\n",
    "        \"30\": ['MDF', 'bandPower(){}_2_beta', 'bandPower(){}_1_beta', 'MNF', 'csi', 'Sp_ent2', 'pnni_50', 'ZC', 'PKF', 'sampEn(){}_2', 'bandPower(){}_2_alpha', 'LZC(){}_1', 'Sp_ent1', \n",
    "                   'nni_50', 'fuzzy0', 'blinking_rate', 'Sp_ent0', 'DFA(){}_2', 'WENT', 'bandPower(){}_1_alpha', 'lf_hf_ratio', 'hjorthMobility(){}_1', 'pnni_20', 'bandPower(){}_2_theta', \n",
    "                   'WL', 'ACC', 'hjorthComplexity(){}_2', 'PFD(){}_1', 'lfnu', 'PFD(){}_2', 'kss'],\n",
    "        \"45\": ['MDF', 'bandPower(){}_2_beta', 'bandPower(){}_1_beta', 'MNF', 'csi', 'Sp_ent2', 'pnni_50', 'ZC', 'PKF', 'sampEn(){}_2', 'bandPower(){}_2_alpha', 'LZC(){}_1', 'Sp_ent1', \n",
    "                   'nni_50', 'fuzzy0', 'blinking_rate', 'Sp_ent0', 'DFA(){}_2', 'WENT', 'bandPower(){}_1_alpha', 'lf_hf_ratio', 'hjorthMobility(){}_1', 'pnni_20', 'bandPower(){}_2_theta', \n",
    "                   'WL', 'ACC', 'hjorthComplexity(){}_2', 'PFD(){}_1', 'lfnu', 'PFD(){}_2', 'nni_20', 'hjorthMobility(){}_2', 'HFD(){}_2', 'LZC(){}_2', 'DFA(){}_1', 'LZC(){}_0', 'EEG_std2', \n",
    "                   'range_nni', 'hjorthComplexity(){}_1', 'wave_ent0', 'mean_hr', 'fuzzy2', 'wave_ent2', 'LOG', 'ApEnt0', 'kss'],\n",
    "        \"60\": ['MDF', 'bandPower(){}_2_beta', 'bandPower(){}_1_beta', 'MNF', 'csi', 'Sp_ent2', 'pnni_50', 'ZC', 'PKF', 'sampEn(){}_2', 'bandPower(){}_2_alpha', 'LZC(){}_1', 'Sp_ent1', \n",
    "                'nni_50', 'fuzzy0', 'blinking_rate', 'Sp_ent0', 'DFA(){}_2', 'WENT', 'bandPower(){}_1_alpha', 'lf_hf_ratio', 'hjorthMobility(){}_1', 'pnni_20', 'bandPower(){}_2_theta', \n",
    "                'WL', 'ACC', 'hjorthComplexity(){}_2', 'PFD(){}_1', 'lfnu', 'PFD(){}_2', 'nni_20', 'hjorthMobility(){}_2', 'HFD(){}_2', 'LZC(){}_2', 'DFA(){}_1', 'LZC(){}_0', 'EEG_std2', \n",
    "                'range_nni', 'hjorthComplexity(){}_1', 'wave_ent0', 'mean_hr', 'fuzzy2', 'wave_ent2', 'LOG', 'ApEnt0', 'min_hr', 'bandPower(){}_2_delta', 'MOE_mean', 'MYOP', 'vlf', \n",
    "                'Multiscale1', 'WAMP', 'Sh_Ent2', 'SaEnt0', 'cvsd', 'EEG_kurt2', 'EEG_skew1', 'bandPower(){}_0_theta', 'MAR_mean', 'bandPower(){}_0_alpha', 'kss']\n",
    "    },\n",
    "    \"kbest\": {\n",
    "        \"15\": ['bandPower(){}_1_alpha', 'bandPower(){}_1_beta', 'bandPower(){}_2_alpha', 'bandPower(){}_2_beta', 'LZC(){}_1', 'fuzzy0', 'Sp_ent0', 'Sp_ent1', 'Sp_ent2', 'nni_50', 'ZC', \n",
    "                   'MNF', 'MDF', 'PKF', 'WENT', 'kss'],\n",
    "        \"30\": ['bandPower(){}_1_alpha', 'bandPower(){}_1_beta', 'bandPower(){}_2_theta', 'bandPower(){}_2_alpha', 'bandPower(){}_2_beta', 'hjorthMobility(){}_1', 'hjorthMobility(){}_2', \n",
    "                   'hjorthComplexity(){}_2', 'sampEn(){}_2', 'DFA(){}_2', 'PFD(){}_1', 'PFD(){}_2', 'LZC(){}_1', 'LZC(){}_2', 'fuzzy0', 'Sp_ent0', 'Sp_ent1', 'Sp_ent2', 'nni_50', 'pnni_20', \n",
    "                   'pnni_50', 'csi', 'WL', 'ACC', 'ZC', 'MNF', 'MDF', 'PKF', 'WENT', 'blinking_rate', 'kss'],\n",
    "        \"45\": ['bandPower(){}_1_alpha', 'bandPower(){}_1_beta', 'bandPower(){}_2_theta', 'bandPower(){}_2_alpha', 'bandPower(){}_2_beta', 'hjorthMobility(){}_1', 'hjorthMobility(){}_2', \n",
    "                   'hjorthComplexity(){}_1', 'hjorthComplexity(){}_2', 'sampEn(){}_2', 'DFA(){}_1', 'DFA(){}_2', 'PFD(){}_1', 'PFD(){}_2', 'LZC(){}_0', 'LZC(){}_1', 'LZC(){}_2', 'HFD(){}_2', \n",
    "                   'ApEnt0', 'SaEnt0', 'fuzzy0', 'Sp_ent0', 'wave_ent0', 'Sp_ent1', 'fuzzy2', 'Sp_ent2', 'wave_ent2', 'EEG_std2', 'nni_20', 'nni_50', 'pnni_20', 'pnni_50', 'range_nni', \n",
    "                   'lf_hf_ratio', 'lfnu', 'csi', 'LOG', 'WL', 'ACC', 'ZC', 'MNF', 'MDF', 'PKF', 'WENT', 'blinking_rate', 'kss'],\n",
    "        \"60\": ['bandPower(){}_0_theta', 'bandPower(){}_0_alpha', 'bandPower(){}_1_alpha', 'bandPower(){}_1_beta', 'bandPower(){}_2_delta', 'bandPower(){}_2_theta', 'bandPower(){}_2_alpha', \n",
    "                'bandPower(){}_2_beta', 'hjorthMobility(){}_1', 'hjorthMobility(){}_2', 'hjorthComplexity(){}_1', 'hjorthComplexity(){}_2', 'sampEn(){}_1', 'sampEn(){}_2', 'DFA(){}_1', \n",
    "                'DFA(){}_2', 'PFD(){}_1', 'PFD(){}_2', 'LZC(){}_0', 'LZC(){}_1', 'LZC(){}_2', 'HFD(){}_2', 'ApEnt0', 'SaEnt0', 'fuzzy0', 'Sp_ent0', 'wave_ent0', 'Multiscale1', 'Sp_ent1', \n",
    "                'fuzzy2', 'Sp_ent2', 'wave_ent2', 'EEG_std2', 'cvsd', 'mean_hr', 'median_nni', 'min_hr', 'nni_20', 'nni_50', 'pnni_20', 'pnni_50', 'range_nni', 'lf_hf_ratio', 'lfnu', 'vlf', \n",
    "                'csi', 'RMS', 'IEMG', 'MAV', 'LOG', 'WL', 'ACC', 'ZC', 'WAMP', 'MYOP', 'MNF', 'MDF', 'PKF', 'WENT', 'blinking_rate', 'kss']\n",
    "    }\n",
    "}\n",
    "\n",
    "ttest_features = [\"bandPower(){}_0_theta\", \"bandPower(){}_0_alpha\", \"bandPower(){}_0_beta\",\t\"bandPower(){}_1_delta\", \"bandPower(){}_2_alpha\", \"bandPower(){}_2_beta\", \n",
    "                  \"hjorthActivity(){}_1\", \"hjorthActivity(){}_2\", \"hjorthMobility(){}_0\", \"hjorthMobility(){}_2\", \"hjorthComplexity(){}_0\",\t\"hjorthComplexity(){}_2\", \"sampEn(){}_2\", \n",
    "                  \"DFA(){}_0\", \"DFA(){}_2\", \"PFD(){}_2\", \"LZC(){}_0\", \"LZC(){}_1\",\t\"LZC(){}_2\", \"fuzzy0\", \"Sp_ent0\", \"EEG_kurt0\",\t\"Sp_ent1\",\t\"wave_ent1\", \"EEG_kurt1\", \"Multiscale2\", \n",
    "                  \"Sp_ent2\", \"wave_ent2\", \"EEG_mean2\", \"EEG_kurt2\", \"cvnni\",\t\"max_hr\", \"nni_20\",\t\"nni_50\", \"pnni_20\", \"pnni_50\",\t\"range_nni\", \"fuzzy\",\t\"sdsd\",\t\"std_hr\", \"lf\",\t\"hf\", \n",
    "                  \"lf_hf_ratio\", \"lfnu\", \"total_power\",\t\"vlf\",\t\"csi\",\t\"RMS\", \"IEMG\",\t\"MAV\",\t\"LOG\",\t\"ZC\", \"WAMP\", \"MNF\", \"MDF\",\t\"PKF\", \"WENT\", \"blinking_rate\",\t\"MAR_mean\",\t\"vtilt_mean\", \n",
    "                  \"htilt_std\", \"kss\"]\n",
    "\n",
    "test_data = test_data.loc[:, filter_features[\"mrmr\"][\"60\"]]\n",
    "\n",
    "print(test_data.shape)\n",
    "\n",
    "test_set = DrowsinessData(test_data, trn_val_tst=2)\n",
    "\n",
    "batch_size = 100 \n",
    "\n",
    "testloader =  DataLoader(test_set, batch_size=batch_size, shuffle=False)\n",
    "\n",
    "num_features = test_set.X.shape[1]"
   ]
  },
  {
   "cell_type": "code",
   "execution_count": 91,
   "metadata": {},
   "outputs": [],
   "source": [
    "class DrowsyNet(nn.Module):\n",
    "    def __init__(self, channels_in):\n",
    "        # calling the init function of the parent nn.Module\n",
    "        super(DrowsyNet, self).__init__()\n",
    "        \n",
    "        # defining the fully connected layers\n",
    "        print(channels_in)\n",
    "        self.fc1 = nn.Linear(int(channels_in), int(channels_in//1.5))\n",
    "        self.fc2 = nn.Linear(int(channels_in//1.5), int(channels_in//3))\n",
    "        self.fc3 = nn.Linear(int(channels_in//3), 1)\n",
    "        \n",
    "    def forward(self, x):\n",
    "        # Passing it through fc layers\n",
    "        x = self.fc1(x)\n",
    "        x = F.relu(x)\n",
    "        x = self.fc2(x)\n",
    "        x = F.relu(x)\n",
    "        x = self.fc3(x)\n",
    "        return x"
   ]
  },
  {
   "cell_type": "code",
   "execution_count": 92,
   "metadata": {},
   "outputs": [],
   "source": [
    "#This function should perform a single evaluation epoch, it WILL NOT be used to train our model\n",
    "def evaluate(model, device, loader, loss_fun):\n",
    "    #initialise counter\n",
    "    total_loss = 0\n",
    "    \n",
    "    #Set network in evaluation mode\n",
    "    #Layers like Dropout will be disabled\n",
    "    #Layers like Batchnorm will stop calculating running mean and standard deviation\n",
    "    #and use current stored values\n",
    "    #(More on these layer types soon!)\n",
    "    model.eval()\n",
    "    \n",
    "    with torch.no_grad():\n",
    "        for i, (x, y) in enumerate(loader):\n",
    "            #Forward pass of image through network\n",
    "            fx = model(x.to(device))\n",
    "            y = y.type(torch.FloatTensor)\n",
    "            \n",
    "            #calculate the loss\n",
    "            loss = loss_fun(fx, y.to(device))\n",
    "            total_loss += loss.item()\n",
    "    \n",
    "    #return the accuracy from the epoch     \n",
    "    return total_loss"
   ]
  },
  {
   "cell_type": "code",
   "execution_count": 93,
   "metadata": {},
   "outputs": [],
   "source": [
    "def get_acc(model, device, loader):\n",
    "    total_loss = 0\n",
    "    total_count = 0\n",
    "    correct_count = 0\n",
    "    #Set network in evaluation mode\n",
    "    #Layers like Dropout will be disabled\n",
    "    #Layers like Batchnorm will stop calculating running mean and standard deviation\n",
    "    #and use current stored values\n",
    "    #(More on these layer types soon!)\n",
    "    model.eval()\n",
    "    \n",
    "    with torch.no_grad():\n",
    "        for i, (x, y) in enumerate(loader):\n",
    "            #Forward pass of image through network\n",
    "            fx = model(x.to(device)).squeeze(1).cpu().numpy().tolist()\n",
    "            y = y.type(torch.FloatTensor).squeeze(1).cpu().numpy().tolist()\n",
    "            \n",
    "            for k in range(len(y)):\n",
    "                total_count += 1\n",
    "                if (fx[k] >= 6.5 and y[k] >= 6.5) or (fx[k] <6.5 and y[k] <6.5):\n",
    "                    correct_count += 1\n",
    "    \n",
    "    #return the accuracy from the epoch     \n",
    "    return correct_count/total_count"
   ]
  },
  {
   "cell_type": "code",
   "execution_count": 94,
   "metadata": {},
   "outputs": [
    {
     "name": "stdout",
     "output_type": "stream",
     "text": [
      "60\n",
      "33.636053800582886 5.799659800417856 0.6857962697274032\n"
     ]
    }
   ],
   "source": [
    "GPU_indx = 0\n",
    "device = torch.device(GPU_indx if torch.cuda.is_available() else 'cpu')\n",
    "model = DrowsyNet(num_features).to(device)\n",
    "loss_fun = nn.MSELoss()\n",
    "\n",
    "model.load_state_dict(torch.load(\"D:/School/Drowsiness-Detection-FYP/neural_network/regression/mrmr_60.pt\"))\n",
    "\n",
    "test_loss = evaluate(model, device, testloader, loss_fun)\n",
    "test_acc = get_acc(model, device, testloader)\n",
    "\n",
    "print(test_loss, np.sqrt(test_loss), test_acc)\n"
   ]
  },
  {
   "cell_type": "code",
   "execution_count": 95,
   "metadata": {},
   "outputs": [
    {
     "name": "stdout",
     "output_type": "stream",
     "text": [
      "[2.0, 2.0, 2.0, 2.0, 2.0, 2.0, 2.0, 2.0, 2.0, 2.0, 2.0, 2.0, 2.0, 2.0, 2.0, 2.0, 2.0, 2.0, 2.0, 2.0, 2.0, 2.0, 2.0, 2.0, 2.0, 2.0, 2.0, 2.0, 2.0, 2.0, 2.0, 2.0, 2.0, 2.0, 2.0, 2.0, 2.0, 2.0, 2.0, 2.0, 2.0, 2.0, 2.0, 2.0, 2.0, 2.0, 2.0, 2.0, 2.0, 2.0, 2.0, 2.0, 2.0, 2.0, 2.0, 2.0, 2.0, 2.0, 2.0, 2.0, 2.0, 2.0, 2.0, 2.0, 2.0, 2.0, 2.0, 2.0, 2.0, 2.0, 2.0, 2.0, 2.0, 2.0, 2.0, 2.0, 2.0, 2.0, 2.0, 2.0, 2.0, 2.0, 2.0, 2.0, 2.0, 2.0, 2.0, 2.0, 2.0, 2.045977, 2.091954, 2.137931, 2.183908, 2.229885, 2.275862, 2.321839, 2.3678162, 2.413793, 2.4597702, 2.505747, 2.5517242, 2.597701, 2.6436782, 2.689655, 2.7356322, 2.7816093, 2.8275862, 2.8735633, 2.9195402, 2.9655173, 3.0114942, 3.0574713, 3.1034484, 3.1494253, 3.1954024, 3.2413793, 3.2873564, 3.3333333, 3.3793104, 3.4252872, 3.4712644, 3.5172415, 3.5632184, 3.6091955, 3.6551723, 3.7011495, 3.7471263, 3.7931035, 3.8390806, 3.8850574, 3.9310346, 3.9770114, 4.0229883, 4.0689654, 4.1149426, 4.1609197, 4.206897, 4.2528734, 4.2988505, 4.3448277, 4.390805, 4.4367814, 4.4827585, 4.5287356, 4.5747128, 4.62069, 4.6666665, 4.7126436, 4.7586207, 4.804598, 4.8505745, 4.8965516, 4.9425287, 4.988506, 5.034483, 5.0804596, 5.1264367, 5.172414, 5.218391, 5.2643676, 5.3103447, 5.356322, 5.402299, 5.448276, 5.4942527, 5.54023, 5.586207, 5.632184, 5.678161, 5.724138, 5.770115, 5.816092, 5.862069, 5.908046, 5.954023, 6.0, 3.0, 3.0465117, 3.0930233, 3.139535, 3.1860466, 3.2325583, 3.2790697, 3.3255813, 3.372093, 3.4186046, 3.4651163, 3.511628, 3.5581396, 3.6046512, 3.6511629, 3.6976745, 3.7441862, 3.7906976, 3.8372092, 3.8837209, 3.9302325, 3.9767442, 4.023256, 4.0697675, 4.116279, 4.162791, 4.2093024, 4.255814, 4.3023257, 4.3488374, 4.395349, 4.4418607, 4.4883723, 4.5348835, 4.581395, 4.627907, 4.6744184, 4.72093, 4.7674417, 4.8139534, 4.860465, 4.9069767, 4.9534883, 5.0, 5.0465117, 5.0930233, 5.139535, 5.1860466, 5.2325583, 5.27907, 5.3255816, 5.372093, 5.418605, 5.4651165, 5.5116277, 5.5581393, 5.604651, 5.6511626, 5.6976743, 5.744186, 5.7906976, 5.837209, 5.883721, 5.9302325, 5.976744, 6.023256, 6.0697675, 6.116279, 6.162791, 6.2093024, 6.255814, 6.3023257, 6.3488374, 6.395349, 6.4418607, 6.4883723, 6.5348835, 6.581395, 6.627907, 6.6744184, 6.72093, 6.7674417, 6.8139534, 6.860465, 6.9069767, 6.9534883, 7.0, 4.023256, 4.0465117, 4.0697675, 4.0930233, 4.116279, 4.139535, 4.162791, 4.1860466, 4.2093024, 4.2325583, 4.255814, 4.27907, 4.3023257, 4.3255816, 4.3488374, 4.372093, 4.395349, 4.418605, 4.4418607, 4.4651165, 4.4883723, 4.5116277, 4.5348835, 4.5581393, 4.581395, 4.604651, 4.627907, 4.6511626, 4.6744184, 4.6976743, 4.72093, 4.744186, 4.7674417, 4.7906976, 4.8139534, 4.837209, 4.860465, 4.883721, 4.9069767, 4.9302325, 4.9534883, 4.976744, 5.0, 5.023256, 5.0465117, 5.0697675, 5.0930233, 5.116279, 5.139535, 5.162791, 5.1860466, 5.2093024, 5.2325583, 5.255814, 5.27907, 5.3023257, 5.3255816, 5.3488374, 5.372093, 5.395349, 5.418605, 5.4418607, 5.4651165, 5.4883723, 5.5116277, 5.5348835, 5.5581393, 5.581395, 5.604651, 5.627907, 5.6511626, 5.6744184, 5.6976743, 5.72093, 5.744186, 5.7674417, 5.7906976, 5.8139534, 5.837209, 5.860465, 5.883721, 5.9069767, 5.9302325, 5.9534883, 5.976744, 6.0, 5.0, 5.0229883, 5.045977, 5.0689654, 5.091954, 5.1149426, 5.137931, 5.1609197, 5.183908, 5.206897, 5.229885, 5.2528734, 5.275862, 5.2988505, 5.321839, 5.3448277, 5.367816, 5.390805, 5.413793, 5.4367814, 5.45977, 5.4827585, 5.5057473, 5.5287356, 5.551724, 5.5747128, 5.597701, 5.62069, 5.643678, 5.6666665, 5.6896553, 5.7126436, 5.7356324, 5.7586207, 5.781609, 5.804598, 5.827586, 5.8505745, 5.8735633, 5.8965516, 5.9195404, 5.9425287, 5.965517, 5.988506, 6.011494, 6.034483, 6.0574713, 6.0804596, 6.1034484, 6.1264367, 6.1494255, 6.172414, 6.195402, 6.218391, 6.2413793, 6.2643676, 6.2873564, 6.3103447, 6.3333335, 6.356322, 6.37931, 6.402299, 6.4252872, 6.448276, 6.4712644, 6.4942527, 6.5172415, 6.54023, 6.5632186, 6.586207, 6.609195, 6.632184, 6.6551723, 6.678161, 6.7011495, 6.724138, 6.7471266, 6.770115, 6.793103, 6.816092, 6.8390803, 6.862069, 6.8850574, 6.908046, 6.9310346, 6.954023, 6.9770117, 7.0, 5.0, 5.0, 5.0, 5.0, 5.0, 5.0, 5.0, 5.0, 5.0, 5.0, 5.0, 5.0, 5.0, 5.0, 5.0, 5.0, 5.0, 5.0, 5.0, 5.0, 5.0, 5.0, 5.0, 5.0, 5.0, 5.0, 5.0, 5.0, 5.0, 5.0, 5.0, 5.0, 5.0, 5.0, 5.0, 5.0, 5.0, 5.0, 5.0, 5.0, 5.0, 5.0, 5.0, 5.0, 5.0, 5.0, 5.0, 5.0, 5.0, 5.0, 5.0, 5.0, 5.0, 5.0, 5.0, 5.0, 5.0, 5.0, 5.0, 5.0, 5.0, 5.0, 5.0, 5.0, 5.0, 5.0, 5.0, 5.0, 5.0, 5.0, 5.0, 5.0, 5.0, 5.0, 5.0, 5.0, 5.0, 5.0, 5.0, 5.0, 5.0, 5.0, 5.0, 5.0, 5.0, 5.0, 5.0, 5.0, 7.0, 7.0116277, 7.023256, 7.0348835, 7.0465117, 7.0581393, 7.0697675, 7.081395, 7.0930233, 7.104651, 7.116279, 7.127907, 7.139535, 7.1511626, 7.162791, 7.1744184, 7.1860466, 7.1976743, 7.2093024, 7.22093, 7.2325583, 7.244186, 7.255814, 7.2674417, 7.27907, 7.2906976, 7.3023257, 7.3139534, 7.3255816, 7.337209, 7.3488374, 7.360465, 7.372093, 7.383721, 7.395349, 7.4069767, 7.418605, 7.4302325, 7.4418607, 7.4534883, 7.4651165, 7.476744, 7.4883723, 7.5, 7.5116277, 7.523256, 7.5348835, 7.5465117, 7.5581393, 7.5697675, 7.581395, 7.5930233, 7.604651, 7.616279, 7.627907, 7.639535, 7.6511626, 7.662791, 7.6744184, 7.6860466, 7.6976743, 7.7093024, 7.72093, 7.7325583, 7.744186, 7.755814, 7.7674417, 7.77907, 7.7906976, 7.8023257, 7.8139534, 7.8255816, 7.837209, 7.8488374, 7.860465, 7.872093, 7.883721, 7.895349, 7.9069767, 7.918605, 7.9302325, 7.9418607, 7.9534883, 7.9651165, 7.976744, 7.9883723, 8.0, 8.0, 8.0, 8.0, 8.0, 8.0, 8.0, 8.0, 8.0, 8.0, 8.0, 8.0, 8.0, 8.0, 8.0, 8.0, 8.0, 8.0, 8.0, 8.0, 8.0, 8.0, 8.0, 8.0, 8.0, 8.0, 8.0, 8.0, 8.0, 8.0, 8.0, 8.0, 8.0, 8.0, 8.0, 8.0, 8.0, 8.0, 8.0, 8.0, 8.0, 8.0, 8.0, 8.0, 8.0, 8.0, 8.0, 8.0, 8.0, 8.0, 8.0, 8.0, 8.0, 8.0, 8.0, 8.0, 8.0, 8.0, 8.0, 8.0, 8.0, 8.0, 8.0, 8.0, 8.0, 8.0, 8.0, 8.0, 8.0, 8.0, 8.0, 8.0, 8.0, 8.0, 8.0, 8.0, 8.0, 8.0, 8.0, 8.0, 8.0, 8.0, 8.0, 8.0, 8.0, 8.0]\n",
      "[4.611182, 4.8886175, 5.160926, 5.128272, 5.105323, 5.4533453, 5.288184, 5.1467657, 4.813636, 4.9014044, 5.7283087, 5.8299017, 5.8827276, 5.6078863, 5.8013067, 5.0857306, 5.7074957, 5.80799, 5.700965, 5.8504095, 5.967475, 5.861884, 5.687293, 5.59986, 6.1532965, 5.692359, 5.907386, 6.299567, 6.8591375, 6.4451056, 6.0795355, 6.848853, 6.998908, 6.768897, 6.944495, 5.861884, 6.1567144, 6.352088, 7.3301153, 7.346534, 7.8505926, 5.7431097, 5.2509527, 5.827277, 5.6716986, 6.274909, 7.5064764, 5.6206427, 5.5834417, 5.717414, 5.2330084, 4.940192, 4.903449, 6.3802557, 6.428748, 5.6143255, 6.031348, 5.9989843, 5.522193, 6.692176, 6.0928106, 6.1027594, 5.105994, 5.2590704, 5.0990973, 5.7403936, 6.068488, 5.6133795, 6.137397, 5.6982794, 5.533057, 5.5919256, 6.0193243, 4.7521124, 4.5997076, 5.824256, 5.662635, 4.97013, 5.3439703, 5.790412, 5.2682867, 6.354499, 5.7791815, 5.5029364, 5.591651, 5.906867, 5.6935186, 5.5131903, 5.0145025, 4.8879156, 5.692725, 5.718116, 5.20658, 4.9970465, 5.647132, 5.5299444, 5.413001, 4.6276617, 5.1374273, 5.157813, 4.3613653, 4.499488, 5.5167, 4.7942877, 4.732337, 4.183448, 5.743018, 5.7033453, 5.102149, 5.065406, 4.820838, 4.5541754, 5.018653, 5.166724, 5.407386, 5.1739874, 5.206702, 5.413245, 5.248267, 5.8757696, 4.9584723, 4.3789434, 4.5419073, 5.194251, 4.715186, 4.9672613, 4.962989, 4.864112, 5.3668585, 5.7469244, 4.6818, 4.5182257, 4.90232, 5.558814, 4.7049932, 4.881324, 5.002784, 4.8738165, 5.563636, 5.4853277, 4.8569098, 4.857398, 4.6222296, 4.480323, 4.577613, 5.1239996, 4.347083, 5.5333014, 3.768287, 4.5334845, 5.623084, 5.684272, 5.2929144, 5.960181, 5.423896, 4.3472357, 4.6341925, 4.7485723, 4.9242926, 4.725562, 4.858039, 4.6511908, 4.807624, 4.9146795, 4.692176, 4.2762823, 4.6344976, 4.7818975, 4.4344244, 5.1707525, 5.682288, 5.034827, 5.0592413, 5.869422, 4.9433966, 4.923072, 5.444068, 4.0523443, 4.003272, 3.4339364, 3.6669686, 4.095557, 4.3422003, 4.1763067, 4.078803, 4.0061407, 3.5129158, 4.4943, 4.15586, 4.1639776, 4.681983, 3.825843, 3.7084725, 4.0904303, 3.903968, 4.6912603, 4.840308, 4.7015753, 4.5807867, 4.3030157, 4.900977, 4.9503546, 4.7455206, 4.7541265, 4.4903326, 3.8185189, 4.0860357, 4.3265142, 4.517249, 4.013221, 4.387183, 4.526618, 4.164008, 4.7163763, 4.194312, 3.8943856, 3.9377205, 3.9432747, 4.011359, 4.247596, 4.5169744, 4.548194, 4.024085, 4.188575, 4.181861, 3.9339058, 3.9963143, 4.086463, 4.0281134, 4.416175, 4.530555, 4.455329, 3.8512032, 4.07862, 4.3947515, 4.3282843, 4.3107977, 4.4992437, 4.822425, 4.5242376, 4.7774115, 5.19361, 4.647681, 4.5995245, 4.8998175, 4.281226, 3.5539315, 3.9302742, 4.455695, 4.231208, 4.382819, 4.2932196, 3.9176095, 4.102149, 4.457099, 4.1824713, 4.775489, 4.7615423, 4.1397467, 3.8990242, 4.334693, 4.7300177, 4.1639166, 3.7205575, 4.166358, 4.519019, 4.460181, 4.367469, 4.8287115, 4.414832, 4.3892584, 4.605689, 6.0267706, 4.972022, 4.938758, 5.2328253, 4.1207037, 4.056922, 5.093116, 4.566077, 4.773658, 4.4972296, 4.6114264, 5.0576544, 4.8805304, 5.203925, 5.0160284, 4.723975, 4.2677374, 4.1915655, 5.316016, 5.329566, 4.395667, 5.0160894, 4.80033, 4.4572515, 5.122901, 6.274146, 4.794532, 4.5682135, 4.0997686, 4.142432, 4.581031, 4.872596, 5.0044317, 4.265174, 4.1152716, 4.61106, 5.4974737, 5.1987677, 4.9909124, 5.1085577, 5.119544, 4.9692144, 5.1696234, 5.3195868, 5.2142706, 4.927436, 4.930976, 4.9034185, 5.2248297, 4.986396, 5.0737677, 5.2121954, 5.020545, 5.3876715, 6.33805, 6.26377, 5.0843267, 6.815955, 5.6050177, 6.2401495, 6.282325, 5.3723516, 6.295081, 6.284217, 6.364478, 6.3499517, 6.2485113, 6.240882, 6.3915777, 5.548438, 5.2856817, 4.5574102, 5.601905, 5.2678595, 5.1431646, 5.065528, 3.0542977, 3.9620125, 4.7524176, 4.6321783, 3.4996102, 4.3057623, 3.367164, 3.2083504, 3.5960457, 3.8616707, 4.5366583, 4.557349, 4.7001715, 4.7992926, 3.97837, 4.2226934, 4.6200933, 3.6550057, 4.146949, 4.3409185, 3.6806405, 4.1980963, 3.8973763, 3.6321175, 3.6281502, 3.9181283, 3.747535, 3.6246712, 3.9031746, 3.5595467, 4.03794, 3.7990487, 3.6247323, 4.3516607, 4.293067, 3.658912, 3.4162362, 4.21836, 4.6033697, 4.913306, 5.2073736, 4.457801, 4.619849, 4.2678595, 4.623328, 4.3756475, 4.4714117, 4.400611, 4.041358, 4.482032, 3.712989, 4.2453375, 4.371375, 4.1225348, 3.9000618, 4.062537, 3.9034188, 3.8334725, 3.8192513, 3.7706673, 3.9831917, 4.0407476, 3.1810677, 3.719947, 4.328223, 4.0495977, 3.6962044, 4.275855, 4.348426, 4.0802374, 3.8810189, 4.07981, 4.447913, 4.2125006, 4.157569, 4.4153204, 4.481971, 4.400611, 4.164344, 3.7730477, 4.133765, 4.5506964, 4.3304205, 4.081336, 4.3473883, 4.171729, 3.6672738, 3.7243416, 4.041419, -5.875634, 2.2747567, 6.5752935, 7.017432, 6.6548834, 6.035865, 6.0297613, 6.216651, 6.152076, 5.660987, 5.3057623, 5.9625616, 5.812354, 6.2815313, 5.775489, 5.9308844, 6.367835, 5.693763, 5.6096563, 6.7919683, 6.049842, 5.5262213, 5.57981, 5.7434454, 5.95658, 6.6288214, 6.244239, 6.115821, 6.2398443, 5.9238043, 5.788001, 5.08689, 5.518714, 5.39701, 5.9344244, 5.912574, 5.8689947, 5.6033697, 5.303809, 5.316413, 5.3951178, 5.9784, 5.8325567, 7.1847906, 5.355506, 6.128028, 6.303748, 5.1585455, 6.126807, 6.0281744, 5.454932, 5.401099, 4.9145575, 5.2357855, 5.7835455, 5.730323, 5.33158, 6.0280523, 5.9535894, 6.2489386, 6.0143194, 5.820899, 5.900367, 5.353858, 5.7645025, 5.5185003, 5.408637, 5.844306, 5.8953314, 5.281104, 5.2751226, 5.3221197, 5.1952887, 5.2815924, 5.122901, 6.0323553, 5.796302, 6.0833807, 5.405799, 5.7810125, 5.7132025, 5.4904547, 5.973304, 6.043067, 5.9572515, 5.987952, 5.4278936, 5.6201544, 4.601783, 5.077857, 4.669898, 4.928687, 4.9784307, 4.20597, 4.687598, 5.508033, 4.6656256, 5.4576178, 5.0521, 5.3946295, 5.2418585, 4.3722906, 5.0196905, 5.3209906, 5.548072, 5.18711, 4.6235723, 5.1771, 4.9068365, 4.529334, 5.5731573, 5.062293, 5.1148443, 5.0422735, 4.786628, 5.0314703, 5.341651, 5.390113, 5.0190496, 5.347083, 5.316016, 4.8270025, 4.6898565, 4.0439215, 4.715003, 5.3821783, 5.27143, 5.013709, 5.20127, 5.0127325, 4.473853, 4.969123, 5.522132, 5.414832, 5.2071905, 4.9324102, 4.468604, 4.171363, 4.9919195, 5.63169, 4.9609137, 4.701606, 4.7427435, 4.671668, 4.898383, 4.799781, 5.044776, 5.2670355, 5.260352, 5.1365423, 4.494361, 5.0402594, 5.2558966, 5.807563, 4.63523, 5.485816, 6.222022, 5.494544, 5.1740484, 5.389533, 5.0462103, 5.349036, 5.2187567, 5.6995916, 6.05857, 4.7280645, 4.641822, 5.4126654, 5.912635, 6.0562506, 4.945594, 5.1588507, 5.6471624, 5.317359, 4.4573126, 5.2298346, 5.1722174, 4.333106, 5.2089605, 5.380164, 5.865699, 5.7472906, 5.1692877, 5.618964, 5.0041876, 5.2796087, 4.911994, 4.8330145, 5.1491156, 5.284217, 5.271796, 5.761451, 5.22602, 5.2313604, 5.7633734, 5.5181646, 6.192054, 6.863105, 6.095374, 6.260413, 6.089301, 6.7725286, 6.1862555, 5.467017, 5.766822, 5.92002, 5.4118414, 5.8823004, 6.4573126, 6.412177, 6.023444, 5.6477118, 5.4105597, 5.087409, 5.3855658, 5.7435064, 6.7871466, 5.6951056, 6.0224066, 6.293311, 6.042701, 5.624915, 5.121619, 4.919959, 5.458686, 5.3677435, 5.3671026, 5.373847, 5.3881903, 5.362586, 5.231452, 5.3527594, 5.535926, 5.2978888, 5.510474, 5.4146795, 4.671302, 4.864295, 5.278754, 5.390113, 5.1514044, 5.5291815, 5.6656866, 5.8498907, 6.225501, 5.897834, 5.240821, 5.4793463, 5.341407, 5.709815, 5.2886724, 5.426856, 5.8874273, 4.9764776, 5.832404, 5.707679, 6.2785406, 6.2257757, 5.4972296, 5.884803]\n"
     ]
    },
    {
     "data": {
      "image/png": "[encoded data removed]",
      "text/plain": [
       "<Figure size 432x288 with 1 Axes>"
      ]
     },
     "metadata": {
      "needs_background": "light"
     },
     "output_type": "display_data"
    }
   ],
   "source": [
    "\n",
    "testloader =  DataLoader(test_set, batch_size=1, shuffle=False)\n",
    "labels = []\n",
    "preds = []\n",
    "tp = 0\n",
    "fp = 0\n",
    "fn = 0\n",
    "tn = 0\n",
    "for i, (x, y) in enumerate(testloader):\n",
    "    #Forward pass of image through network\n",
    "    fx = model(x.to(device))\n",
    "    labels.append(y.numpy()[0][0])\n",
    "    preds.append(fx.cpu().detach().numpy()[0][0])\n",
    "    for k in range(len(y)):\n",
    "        if (fx[k] >= 6.5 and y[k] >= 6.5):\n",
    "            tp += 1\n",
    "        elif (fx[k] <6.5 and y[k] <6.5):\n",
    "            tn += 1\n",
    "        elif (fx[k] >= 6.5 and y[k] < 6.5):\n",
    "            fp += 1\n",
    "        elif (fx[k] < 6.5 and y[k] >= 6.5):\n",
    "            fn += 1\n",
    "    \n",
    "\n",
    "print(labels)\n",
    "print(preds)\n",
    "\n",
    "\n",
    "def bland_altman_plot(data1, data2, *args, **kwargs):\n",
    "    data1     = np.asarray(data1)\n",
    "    data2     = np.asarray(data2)\n",
    "    mean      = np.mean([data1, data2], axis=0)\n",
    "    diff      = data1 - data2                   # Difference between data1 and data2\n",
    "    md        = np.mean(diff)                   # Mean of the difference\n",
    "    sd        = np.std(diff, axis=0)            # Standard deviation of the difference\n",
    "\n",
    "    plt.scatter(mean, diff, *args, **kwargs)\n",
    "    plt.axhline(md,           color='gray', linestyle='--')\n",
    "    plt.axhline(md + 1.96*sd, color='gray', linestyle='--')\n",
    "    plt.axhline(md - 1.96*sd, color='gray', linestyle='--')\n",
    "\n",
    "bland_altman_plot(labels, preds)\n",
    "plt.title('Bland-Altman Plot')\n",
    "plt.show()"
   ]
  },
  {
   "cell_type": "code",
   "execution_count": 96,
   "metadata": {},
   "outputs": [
    {
     "name": "stdout",
     "output_type": "stream",
     "text": [
      "3 17\n",
      "202 475\n",
      "0.15 0.014634146341463415\n"
     ]
    }
   ],
   "source": [
    "print(tp, fp)\n",
    "print(fn, tn)\n",
    "\n",
    "precision = tp/(tp+fp)\n",
    "recall = tp/(tp+fn)\n",
    "\n",
    "print(precision, recall)"
   ]
  }
 ],
 "metadata": {
  "kernelspec": {
   "display_name": "venv",
   "language": "python",
   "name": "python3"
  },
  "language_info": {
   "codemirror_mode": {
    "name": "ipython",
    "version": 3
   },
   "file_extension": ".py",
   "mimetype": "text/x-python",
   "name": "python",
   "nbconvert_exporter": "python",
   "pygments_lexer": "ipython3",
   "version": "3.10.11"
  },
  "orig_nbformat": 4
 },
 "nbformat": 4,
 "nbformat_minor": 2
}
