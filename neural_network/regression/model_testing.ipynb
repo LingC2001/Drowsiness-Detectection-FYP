{
 "cells": [
  {
   "cell_type": "code",
   "execution_count": 9,
   "metadata": {},
   "outputs": [],
   "source": [
    "import torch\n",
    "from torch.utils.data import Dataset, DataLoader\n",
    "import torch\n",
    "import torch.nn as nn\n",
    "import torch.nn.functional as F\n",
    "import torch.optim as optim\n",
    "import torchvision\n",
    "import torchvision.transforms as transforms\n",
    "\n",
    "import os\n",
    "import random\n",
    "import numpy as np\n",
    "import matplotlib.pyplot as plt\n",
    "from IPython.display import clear_output\n",
    "\n",
    "import math\n",
    "from copy import deepcopy\n",
    "\n",
    "import pandas as pd"
   ]
  },
  {
   "cell_type": "code",
   "execution_count": 10,
   "metadata": {},
   "outputs": [],
   "source": [
    "class DrowsinessData(Dataset):\n",
    "    def __init__(self,data, trn_val_tst, transform=None):\n",
    "\n",
    "        # split_idx1 = int(data.shape[0]*0.6)\n",
    "        # split_idx2 = int(data.shape[0]*0.8)\n",
    "        # if trn_val_tst == 0:\n",
    "        #     #trainloader\n",
    "        #     self.X = data.iloc[0:split_idx1, 0:-1].to_numpy()\n",
    "        #     self.labels = data.iloc[0:split_idx1, -1].to_numpy()\n",
    "        # elif trn_val_tst == 1:\n",
    "        #     #valloader\n",
    "        #     self.X = data.iloc[split_idx1:split_idx2, 0:-1].to_numpy()\n",
    "        #     self.labels = data.iloc[split_idx1:split_idx2, -1].to_numpy()\n",
    "        # else:\n",
    "        #     #testloader\n",
    "        #     self.X = data.iloc[split_idx1:split_idx2, 0:-1].to_numpy()\n",
    "        #     self.labels = data.iloc[split_idx1:split_idx2, -1].to_numpy()\n",
    "\n",
    "        self.X = data.iloc[:, 0:-1].to_numpy()\n",
    "        self.labels = data.iloc[:, -1].to_numpy()\n",
    "\n",
    "        self.transform = transform\n",
    "\n",
    "    def __len__(self):\n",
    "        return len(self.labels)\n",
    "\n",
    "    def __getitem__(self, idx):\n",
    "        if torch.is_tensor(idx):\n",
    "            idx = idx.tolist()\n",
    "\n",
    "        sample = self.X[idx,:]\n",
    "        label = self.labels[idx]\n",
    "\n",
    "        # if self.transform:\n",
    "        #     sample = self.transform(sample)\n",
    "        sample = torch.from_numpy(sample).type(torch.float32)\n",
    "        label = torch.tensor(label, dtype=torch.float32).unsqueeze(0)\n",
    "\n",
    "        return sample, label"
   ]
  },
  {
   "cell_type": "code",
   "execution_count": 11,
   "metadata": {},
   "outputs": [
    {
     "name": "stdout",
     "output_type": "stream",
     "text": [
      "(697, 31)\n"
     ]
    }
   ],
   "source": [
    "test_data = pd.read_csv(\"../Features_and_Labels/30s/test_features_and_labels_30s.csv\")\n",
    "\n",
    "\n",
    "filter_features = {\n",
    "    \"mrmr\": {\n",
    "        \"15\": ['MDF', 'bandPower(){}_2_beta', 'bandPower(){}_1_beta', 'MNF', 'csi', 'Sp_ent2', 'pnni_50', 'ZC', 'PKF', 'sampEn(){}_2', 'bandPower(){}_2_alpha', 'LZC(){}_1', 'Sp_ent1', \n",
    "                   'nni_50', 'fuzzy0', 'kss'],\n",
    "        \"30\": ['MDF', 'bandPower(){}_2_beta', 'bandPower(){}_1_beta', 'MNF', 'csi', 'Sp_ent2', 'pnni_50', 'ZC', 'PKF', 'sampEn(){}_2', 'bandPower(){}_2_alpha', 'LZC(){}_1', 'Sp_ent1', \n",
    "                   'nni_50', 'fuzzy0', 'blinking_rate', 'Sp_ent0', 'DFA(){}_2', 'WENT', 'bandPower(){}_1_alpha', 'lf_hf_ratio', 'hjorthMobility(){}_1', 'pnni_20', 'bandPower(){}_2_theta', \n",
    "                   'WL', 'ACC', 'hjorthComplexity(){}_2', 'PFD(){}_1', 'lfnu', 'PFD(){}_2', 'kss'],\n",
    "        \"45\": ['MDF', 'bandPower(){}_2_beta', 'bandPower(){}_1_beta', 'MNF', 'csi', 'Sp_ent2', 'pnni_50', 'ZC', 'PKF', 'sampEn(){}_2', 'bandPower(){}_2_alpha', 'LZC(){}_1', 'Sp_ent1', \n",
    "                   'nni_50', 'fuzzy0', 'blinking_rate', 'Sp_ent0', 'DFA(){}_2', 'WENT', 'bandPower(){}_1_alpha', 'lf_hf_ratio', 'hjorthMobility(){}_1', 'pnni_20', 'bandPower(){}_2_theta', \n",
    "                   'WL', 'ACC', 'hjorthComplexity(){}_2', 'PFD(){}_1', 'lfnu', 'PFD(){}_2', 'nni_20', 'hjorthMobility(){}_2', 'HFD(){}_2', 'LZC(){}_2', 'DFA(){}_1', 'LZC(){}_0', 'EEG_std2', \n",
    "                   'range_nni', 'hjorthComplexity(){}_1', 'wave_ent0', 'mean_hr', 'fuzzy2', 'wave_ent2', 'LOG', 'ApEnt0', 'kss'],\n",
    "        \"60\": ['MDF', 'bandPower(){}_2_beta', 'bandPower(){}_1_beta', 'MNF', 'csi', 'Sp_ent2', 'pnni_50', 'ZC', 'PKF', 'sampEn(){}_2', 'bandPower(){}_2_alpha', 'LZC(){}_1', 'Sp_ent1', \n",
    "                'nni_50', 'fuzzy0', 'blinking_rate', 'Sp_ent0', 'DFA(){}_2', 'WENT', 'bandPower(){}_1_alpha', 'lf_hf_ratio', 'hjorthMobility(){}_1', 'pnni_20', 'bandPower(){}_2_theta', \n",
    "                'WL', 'ACC', 'hjorthComplexity(){}_2', 'PFD(){}_1', 'lfnu', 'PFD(){}_2', 'nni_20', 'hjorthMobility(){}_2', 'HFD(){}_2', 'LZC(){}_2', 'DFA(){}_1', 'LZC(){}_0', 'EEG_std2', \n",
    "                'range_nni', 'hjorthComplexity(){}_1', 'wave_ent0', 'mean_hr', 'fuzzy2', 'wave_ent2', 'LOG', 'ApEnt0', 'min_hr', 'bandPower(){}_2_delta', 'MOE_mean', 'MYOP', 'vlf', \n",
    "                'Multiscale1', 'WAMP', 'Sh_Ent2', 'SaEnt0', 'cvsd', 'EEG_kurt2', 'EEG_skew1', 'bandPower(){}_0_theta', 'MAR_mean', 'bandPower(){}_0_alpha', 'kss']\n",
    "    },\n",
    "    \"kbest\": {\n",
    "        \"15\": ['bandPower(){}_1_alpha', 'bandPower(){}_1_beta', 'bandPower(){}_2_alpha', 'bandPower(){}_2_beta', 'LZC(){}_1', 'fuzzy0', 'Sp_ent0', 'Sp_ent1', 'Sp_ent2', 'nni_50', 'ZC', \n",
    "                   'MNF', 'MDF', 'PKF', 'WENT', 'kss'],\n",
    "        \"30\": ['bandPower(){}_1_alpha', 'bandPower(){}_1_beta', 'bandPower(){}_2_theta', 'bandPower(){}_2_alpha', 'bandPower(){}_2_beta', 'hjorthMobility(){}_1', 'hjorthMobility(){}_2', \n",
    "                   'hjorthComplexity(){}_2', 'sampEn(){}_2', 'DFA(){}_2', 'PFD(){}_1', 'PFD(){}_2', 'LZC(){}_1', 'LZC(){}_2', 'fuzzy0', 'Sp_ent0', 'Sp_ent1', 'Sp_ent2', 'nni_50', 'pnni_20', \n",
    "                   'pnni_50', 'csi', 'WL', 'ACC', 'ZC', 'MNF', 'MDF', 'PKF', 'WENT', 'blinking_rate', 'kss'],\n",
    "        \"45\": ['bandPower(){}_1_alpha', 'bandPower(){}_1_beta', 'bandPower(){}_2_theta', 'bandPower(){}_2_alpha', 'bandPower(){}_2_beta', 'hjorthMobility(){}_1', 'hjorthMobility(){}_2', \n",
    "                   'hjorthComplexity(){}_1', 'hjorthComplexity(){}_2', 'sampEn(){}_2', 'DFA(){}_1', 'DFA(){}_2', 'PFD(){}_1', 'PFD(){}_2', 'LZC(){}_0', 'LZC(){}_1', 'LZC(){}_2', 'HFD(){}_2', \n",
    "                   'ApEnt0', 'SaEnt0', 'fuzzy0', 'Sp_ent0', 'wave_ent0', 'Sp_ent1', 'fuzzy2', 'Sp_ent2', 'wave_ent2', 'EEG_std2', 'nni_20', 'nni_50', 'pnni_20', 'pnni_50', 'range_nni', \n",
    "                   'lf_hf_ratio', 'lfnu', 'csi', 'LOG', 'WL', 'ACC', 'ZC', 'MNF', 'MDF', 'PKF', 'WENT', 'blinking_rate', 'kss'],\n",
    "        \"60\": ['bandPower(){}_0_theta', 'bandPower(){}_0_alpha', 'bandPower(){}_1_alpha', 'bandPower(){}_1_beta', 'bandPower(){}_2_delta', 'bandPower(){}_2_theta', 'bandPower(){}_2_alpha', \n",
    "                'bandPower(){}_2_beta', 'hjorthMobility(){}_1', 'hjorthMobility(){}_2', 'hjorthComplexity(){}_1', 'hjorthComplexity(){}_2', 'sampEn(){}_1', 'sampEn(){}_2', 'DFA(){}_1', \n",
    "                'DFA(){}_2', 'PFD(){}_1', 'PFD(){}_2', 'LZC(){}_0', 'LZC(){}_1', 'LZC(){}_2', 'HFD(){}_2', 'ApEnt0', 'SaEnt0', 'fuzzy0', 'Sp_ent0', 'wave_ent0', 'Multiscale1', 'Sp_ent1', \n",
    "                'fuzzy2', 'Sp_ent2', 'wave_ent2', 'EEG_std2', 'cvsd', 'mean_hr', 'median_nni', 'min_hr', 'nni_20', 'nni_50', 'pnni_20', 'pnni_50', 'range_nni', 'lf_hf_ratio', 'lfnu', 'vlf', \n",
    "                'csi', 'RMS', 'IEMG', 'MAV', 'LOG', 'WL', 'ACC', 'ZC', 'WAMP', 'MYOP', 'MNF', 'MDF', 'PKF', 'WENT', 'blinking_rate', 'kss']\n",
    "    }\n",
    "}\n",
    "\n",
    "ttest_features = [\"bandPower(){}_0_theta\", \"bandPower(){}_0_alpha\", \"bandPower(){}_0_beta\",\t\"bandPower(){}_1_delta\", \"bandPower(){}_2_alpha\", \"bandPower(){}_2_beta\", \n",
    "                  \"hjorthActivity(){}_1\", \"hjorthActivity(){}_2\", \"hjorthMobility(){}_0\", \"hjorthMobility(){}_2\", \"hjorthComplexity(){}_0\",\t\"hjorthComplexity(){}_2\", \"sampEn(){}_2\", \n",
    "                  \"DFA(){}_0\", \"DFA(){}_2\", \"PFD(){}_2\", \"LZC(){}_0\", \"LZC(){}_1\",\t\"LZC(){}_2\", \"fuzzy0\", \"Sp_ent0\", \"EEG_kurt0\",\t\"Sp_ent1\",\t\"wave_ent1\", \"EEG_kurt1\", \"Multiscale2\", \n",
    "                  \"Sp_ent2\", \"wave_ent2\", \"EEG_mean2\", \"EEG_kurt2\", \"cvnni\",\t\"max_hr\", \"nni_20\",\t\"nni_50\", \"pnni_20\", \"pnni_50\",\t\"range_nni\", \"fuzzy\",\t\"sdsd\",\t\"std_hr\", \"lf\",\t\"hf\", \n",
    "                  \"lf_hf_ratio\", \"lfnu\", \"total_power\",\t\"vlf\",\t\"csi\",\t\"RMS\", \"IEMG\",\t\"MAV\",\t\"LOG\",\t\"ZC\", \"WAMP\", \"MNF\", \"MDF\",\t\"PKF\", \"WENT\", \"blinking_rate\",\t\"MAR_mean\",\t\"vtilt_mean\", \n",
    "                  \"htilt_std\", \"kss\"]\n",
    "\n",
    "test_data = test_data.loc[:, filter_features[\"mrmr\"][\"30\"]]\n",
    "\n",
    "print(test_data.shape)\n",
    "\n",
    "test_set = DrowsinessData(test_data, trn_val_tst=2)\n",
    "\n",
    "batch_size = 100 \n",
    "\n",
    "testloader =  DataLoader(test_set, batch_size=batch_size, shuffle=False)\n",
    "\n",
    "num_features = test_set.X.shape[1]"
   ]
  },
  {
   "cell_type": "code",
   "execution_count": 12,
   "metadata": {},
   "outputs": [],
   "source": [
    "class DrowsyNet(nn.Module):\n",
    "    def __init__(self, channels_in):\n",
    "        # calling the init function of the parent nn.Module\n",
    "        super(DrowsyNet, self).__init__()\n",
    "        \n",
    "        # defining the fully connected layers\n",
    "        print(channels_in)\n",
    "        self.fc1 = nn.Linear(int(channels_in), int(channels_in//1.5))\n",
    "        self.fc2 = nn.Linear(int(channels_in//1.5), int(channels_in//3))\n",
    "        self.fc3 = nn.Linear(int(channels_in//3), 1)\n",
    "        \n",
    "    def forward(self, x):\n",
    "        # Passing it through fc layers\n",
    "        x = self.fc1(x)\n",
    "        x = F.relu(x)\n",
    "        x = self.fc2(x)\n",
    "        x = F.relu(x)\n",
    "        x = self.fc3(x)\n",
    "        return x"
   ]
  },
  {
   "cell_type": "code",
   "execution_count": 13,
   "metadata": {},
   "outputs": [],
   "source": [
    "#This function should perform a single evaluation epoch, it WILL NOT be used to train our model\n",
    "def evaluate(model, device, loader, loss_fun):\n",
    "    #initialise counter\n",
    "    total_loss = 0\n",
    "    \n",
    "    #Set network in evaluation mode\n",
    "    #Layers like Dropout will be disabled\n",
    "    #Layers like Batchnorm will stop calculating running mean and standard deviation\n",
    "    #and use current stored values\n",
    "    #(More on these layer types soon!)\n",
    "    model.eval()\n",
    "    \n",
    "    with torch.no_grad():\n",
    "        for i, (x, y) in enumerate(loader):\n",
    "            #Forward pass of image through network\n",
    "            fx = model(x.to(device))\n",
    "            y = y.type(torch.FloatTensor)\n",
    "            \n",
    "            #calculate the loss\n",
    "            loss = loss_fun(fx, y.to(device))\n",
    "            total_loss += loss.item()\n",
    "    \n",
    "    #return the accuracy from the epoch     \n",
    "    return total_loss"
   ]
  },
  {
   "cell_type": "code",
   "execution_count": 14,
   "metadata": {},
   "outputs": [],
   "source": [
    "def get_acc(model, device, loader):\n",
    "    total_loss = 0\n",
    "    total_count = 0\n",
    "    correct_count = 0\n",
    "    #Set network in evaluation mode\n",
    "    #Layers like Dropout will be disabled\n",
    "    #Layers like Batchnorm will stop calculating running mean and standard deviation\n",
    "    #and use current stored values\n",
    "    #(More on these layer types soon!)\n",
    "    model.eval()\n",
    "    \n",
    "    with torch.no_grad():\n",
    "        for i, (x, y) in enumerate(loader):\n",
    "            #Forward pass of image through network\n",
    "            fx = model(x.to(device)).squeeze(1).cpu().numpy().tolist()\n",
    "            y = y.type(torch.FloatTensor).squeeze(1).cpu().numpy().tolist()\n",
    "            \n",
    "            for k in range(len(y)):\n",
    "                total_count += 1\n",
    "                if (fx[k] >= 6.5 and y[k] >= 6.5) or (fx[k] <6.5 and y[k] <6.5):\n",
    "                    correct_count += 1\n",
    "    \n",
    "    #return the accuracy from the epoch     \n",
    "    return correct_count/total_count"
   ]
  },
  {
   "cell_type": "code",
   "execution_count": 15,
   "metadata": {},
   "outputs": [
    {
     "name": "stdout",
     "output_type": "stream",
     "text": [
      "30\n",
      "34.573944091796875 5.879961232167851 0.6843615494978479\n"
     ]
    }
   ],
   "source": [
    "GPU_indx = 0\n",
    "device = torch.device(GPU_indx if torch.cuda.is_available() else 'cpu')\n",
    "model = DrowsyNet(num_features).to(device)\n",
    "loss_fun = nn.MSELoss()\n",
    "\n",
    "model.load_state_dict(torch.load(\"D:/School/Drowsiness-Detection-FYP/neural_network/regression/mrmr_30.pt\"))\n",
    "\n",
    "test_loss = evaluate(model, device, testloader, loss_fun)\n",
    "test_acc = get_acc(model, device, testloader)\n",
    "\n",
    "print(test_loss, np.sqrt(test_loss), test_acc)\n"
   ]
  },
  {
   "cell_type": "code",
   "execution_count": 16,
   "metadata": {},
   "outputs": [
    {
     "name": "stdout",
     "output_type": "stream",
     "text": [
      "[2.0, 2.0, 2.0, 2.0, 2.0, 2.0, 2.0, 2.0, 2.0, 2.0, 2.0, 2.0, 2.0, 2.0, 2.0, 2.0, 2.0, 2.0, 2.0, 2.0, 2.0, 2.0, 2.0, 2.0, 2.0, 2.0, 2.0, 2.0, 2.0, 2.0, 2.0, 2.0, 2.0, 2.0, 2.0, 2.0, 2.0, 2.0, 2.0, 2.0, 2.0, 2.0, 2.0, 2.0, 2.0, 2.0, 2.0, 2.0, 2.0, 2.0, 2.0, 2.0, 2.0, 2.0, 2.0, 2.0, 2.0, 2.0, 2.0, 2.0, 2.0, 2.0, 2.0, 2.0, 2.0, 2.0, 2.0, 2.0, 2.0, 2.0, 2.0, 2.0, 2.0, 2.0, 2.0, 2.0, 2.0, 2.0, 2.0, 2.0, 2.0, 2.0, 2.0, 2.0, 2.0, 2.0, 2.0, 2.0, 2.0, 2.045977, 2.091954, 2.137931, 2.183908, 2.229885, 2.275862, 2.321839, 2.3678162, 2.413793, 2.4597702, 2.505747, 2.5517242, 2.597701, 2.6436782, 2.689655, 2.7356322, 2.7816093, 2.8275862, 2.8735633, 2.9195402, 2.9655173, 3.0114942, 3.0574713, 3.1034484, 3.1494253, 3.1954024, 3.2413793, 3.2873564, 3.3333333, 3.3793104, 3.4252872, 3.4712644, 3.5172415, 3.5632184, 3.6091955, 3.6551723, 3.7011495, 3.7471263, 3.7931035, 3.8390806, 3.8850574, 3.9310346, 3.9770114, 4.0229883, 4.0689654, 4.1149426, 4.1609197, 4.206897, 4.2528734, 4.2988505, 4.3448277, 4.390805, 4.4367814, 4.4827585, 4.5287356, 4.5747128, 4.62069, 4.6666665, 4.7126436, 4.7586207, 4.804598, 4.8505745, 4.8965516, 4.9425287, 4.988506, 5.034483, 5.0804596, 5.1264367, 5.172414, 5.218391, 5.2643676, 5.3103447, 5.356322, 5.402299, 5.448276, 5.4942527, 5.54023, 5.586207, 5.632184, 5.678161, 5.724138, 5.770115, 5.816092, 5.862069, 5.908046, 5.954023, 6.0, 3.0, 3.0465117, 3.0930233, 3.139535, 3.1860466, 3.2325583, 3.2790697, 3.3255813, 3.372093, 3.4186046, 3.4651163, 3.511628, 3.5581396, 3.6046512, 3.6511629, 3.6976745, 3.7441862, 3.7906976, 3.8372092, 3.8837209, 3.9302325, 3.9767442, 4.023256, 4.0697675, 4.116279, 4.162791, 4.2093024, 4.255814, 4.3023257, 4.3488374, 4.395349, 4.4418607, 4.4883723, 4.5348835, 4.581395, 4.627907, 4.6744184, 4.72093, 4.7674417, 4.8139534, 4.860465, 4.9069767, 4.9534883, 5.0, 5.0465117, 5.0930233, 5.139535, 5.1860466, 5.2325583, 5.27907, 5.3255816, 5.372093, 5.418605, 5.4651165, 5.5116277, 5.5581393, 5.604651, 5.6511626, 5.6976743, 5.744186, 5.7906976, 5.837209, 5.883721, 5.9302325, 5.976744, 6.023256, 6.0697675, 6.116279, 6.162791, 6.2093024, 6.255814, 6.3023257, 6.3488374, 6.395349, 6.4418607, 6.4883723, 6.5348835, 6.581395, 6.627907, 6.6744184, 6.72093, 6.7674417, 6.8139534, 6.860465, 6.9069767, 6.9534883, 7.0, 4.023256, 4.0465117, 4.0697675, 4.0930233, 4.116279, 4.139535, 4.162791, 4.1860466, 4.2093024, 4.2325583, 4.255814, 4.27907, 4.3023257, 4.3255816, 4.3488374, 4.372093, 4.395349, 4.418605, 4.4418607, 4.4651165, 4.4883723, 4.5116277, 4.5348835, 4.5581393, 4.581395, 4.604651, 4.627907, 4.6511626, 4.6744184, 4.6976743, 4.72093, 4.744186, 4.7674417, 4.7906976, 4.8139534, 4.837209, 4.860465, 4.883721, 4.9069767, 4.9302325, 4.9534883, 4.976744, 5.0, 5.023256, 5.0465117, 5.0697675, 5.0930233, 5.116279, 5.139535, 5.162791, 5.1860466, 5.2093024, 5.2325583, 5.255814, 5.27907, 5.3023257, 5.3255816, 5.3488374, 5.372093, 5.395349, 5.418605, 5.4418607, 5.4651165, 5.4883723, 5.5116277, 5.5348835, 5.5581393, 5.581395, 5.604651, 5.627907, 5.6511626, 5.6744184, 5.6976743, 5.72093, 5.744186, 5.7674417, 5.7906976, 5.8139534, 5.837209, 5.860465, 5.883721, 5.9069767, 5.9302325, 5.9534883, 5.976744, 6.0, 5.0, 5.0229883, 5.045977, 5.0689654, 5.091954, 5.1149426, 5.137931, 5.1609197, 5.183908, 5.206897, 5.229885, 5.2528734, 5.275862, 5.2988505, 5.321839, 5.3448277, 5.367816, 5.390805, 5.413793, 5.4367814, 5.45977, 5.4827585, 5.5057473, 5.5287356, 5.551724, 5.5747128, 5.597701, 5.62069, 5.643678, 5.6666665, 5.6896553, 5.7126436, 5.7356324, 5.7586207, 5.781609, 5.804598, 5.827586, 5.8505745, 5.8735633, 5.8965516, 5.9195404, 5.9425287, 5.965517, 5.988506, 6.011494, 6.034483, 6.0574713, 6.0804596, 6.1034484, 6.1264367, 6.1494255, 6.172414, 6.195402, 6.218391, 6.2413793, 6.2643676, 6.2873564, 6.3103447, 6.3333335, 6.356322, 6.37931, 6.402299, 6.4252872, 6.448276, 6.4712644, 6.4942527, 6.5172415, 6.54023, 6.5632186, 6.586207, 6.609195, 6.632184, 6.6551723, 6.678161, 6.7011495, 6.724138, 6.7471266, 6.770115, 6.793103, 6.816092, 6.8390803, 6.862069, 6.8850574, 6.908046, 6.9310346, 6.954023, 6.9770117, 7.0, 5.0, 5.0, 5.0, 5.0, 5.0, 5.0, 5.0, 5.0, 5.0, 5.0, 5.0, 5.0, 5.0, 5.0, 5.0, 5.0, 5.0, 5.0, 5.0, 5.0, 5.0, 5.0, 5.0, 5.0, 5.0, 5.0, 5.0, 5.0, 5.0, 5.0, 5.0, 5.0, 5.0, 5.0, 5.0, 5.0, 5.0, 5.0, 5.0, 5.0, 5.0, 5.0, 5.0, 5.0, 5.0, 5.0, 5.0, 5.0, 5.0, 5.0, 5.0, 5.0, 5.0, 5.0, 5.0, 5.0, 5.0, 5.0, 5.0, 5.0, 5.0, 5.0, 5.0, 5.0, 5.0, 5.0, 5.0, 5.0, 5.0, 5.0, 5.0, 5.0, 5.0, 5.0, 5.0, 5.0, 5.0, 5.0, 5.0, 5.0, 5.0, 5.0, 5.0, 5.0, 5.0, 5.0, 5.0, 5.0, 7.0, 7.0116277, 7.023256, 7.0348835, 7.0465117, 7.0581393, 7.0697675, 7.081395, 7.0930233, 7.104651, 7.116279, 7.127907, 7.139535, 7.1511626, 7.162791, 7.1744184, 7.1860466, 7.1976743, 7.2093024, 7.22093, 7.2325583, 7.244186, 7.255814, 7.2674417, 7.27907, 7.2906976, 7.3023257, 7.3139534, 7.3255816, 7.337209, 7.3488374, 7.360465, 7.372093, 7.383721, 7.395349, 7.4069767, 7.418605, 7.4302325, 7.4418607, 7.4534883, 7.4651165, 7.476744, 7.4883723, 7.5, 7.5116277, 7.523256, 7.5348835, 7.5465117, 7.5581393, 7.5697675, 7.581395, 7.5930233, 7.604651, 7.616279, 7.627907, 7.639535, 7.6511626, 7.662791, 7.6744184, 7.6860466, 7.6976743, 7.7093024, 7.72093, 7.7325583, 7.744186, 7.755814, 7.7674417, 7.77907, 7.7906976, 7.8023257, 7.8139534, 7.8255816, 7.837209, 7.8488374, 7.860465, 7.872093, 7.883721, 7.895349, 7.9069767, 7.918605, 7.9302325, 7.9418607, 7.9534883, 7.9651165, 7.976744, 7.9883723, 8.0, 8.0, 8.0, 8.0, 8.0, 8.0, 8.0, 8.0, 8.0, 8.0, 8.0, 8.0, 8.0, 8.0, 8.0, 8.0, 8.0, 8.0, 8.0, 8.0, 8.0, 8.0, 8.0, 8.0, 8.0, 8.0, 8.0, 8.0, 8.0, 8.0, 8.0, 8.0, 8.0, 8.0, 8.0, 8.0, 8.0, 8.0, 8.0, 8.0, 8.0, 8.0, 8.0, 8.0, 8.0, 8.0, 8.0, 8.0, 8.0, 8.0, 8.0, 8.0, 8.0, 8.0, 8.0, 8.0, 8.0, 8.0, 8.0, 8.0, 8.0, 8.0, 8.0, 8.0, 8.0, 8.0, 8.0, 8.0, 8.0, 8.0, 8.0, 8.0, 8.0, 8.0, 8.0, 8.0, 8.0, 8.0, 8.0, 8.0, 8.0, 8.0, 8.0, 8.0, 8.0, 8.0]\n",
      "[5.148365, 5.3299446, 5.7260933, 5.743, 5.8995247, 5.674122, 5.701313, 5.597431, 4.8901863, 5.0415535, 5.949787, 6.0489235, 5.437855, 5.4485054, 5.98061, 5.4143257, 5.3733406, 5.53664, 5.5776863, 6.031513, 6.1385384, 5.7141304, 5.7435493, 5.882221, 6.16576, 5.677479, 6.2680855, 6.3864937, 6.655323, 6.491886, 6.121784, 6.8556404, 6.957844, 6.6826973, 6.8409615, 6.025318, 6.2121162, 6.5464363, 7.1142464, 7.385639, 7.698902, 6.3778877, 5.532276, 5.913166, 6.003895, 6.331333, 7.4624367, 6.135578, 5.9888496, 6.122669, 5.827717, 5.4404793, 5.2073555, 6.3847237, 6.276829, 5.491596, 5.703022, 5.8277473, 5.6148567, 6.6357613, 5.8914833, 6.248661, 4.978321, 5.163578, 4.974201, 5.7015266, 6.099766, 5.5317726, 6.0547066, 6.0015755, 5.9971504, 5.74358, 5.8761024, 5.047657, 4.667927, 5.6080513, 5.9837837, 5.0968513, 5.4582863, 5.6058693, 5.4858894, 6.316517, 5.3732033, 5.155628, 5.301716, 5.512562, 5.4306374, 5.5666847, 4.621723, 4.3189583, 5.2172127, 5.339161, 5.205494, 4.8813972, 5.2083626, 5.441059, 5.3073006, 4.641102, 5.0094795, 5.0905037, 4.394764, 4.7600594, 4.900013, 4.717884, 4.81435, 5.1198006, 5.346363, 5.606251, 5.1730843, 5.151661, 5.038349, 4.844776, 4.9333076, 5.2208138, 5.3410225, 5.36742, 5.3787117, 5.316578, 5.2556343, 5.7212105, 5.0844, 4.728718, 4.917225, 5.164875, 5.003376, 5.1160774, 4.9500923, 5.2411995, 5.441883, 5.979542, 4.6840706, 4.7427864, 5.2216988, 5.77483, 4.978779, 5.178974, 4.9674873, 5.018696, 5.825245, 5.6609993, 4.717701, 4.9047127, 4.894581, 4.6089363, 4.983631, 5.0301094, 4.645252, 5.519886, 4.051197, 5.015461, 5.622242, 5.6955757, 5.406101, 5.84676, 5.459461, 4.669407, 4.815174, 4.795948, 4.9456367, 4.7344856, 4.9307137, 4.72472, 4.9271736, 4.994282, 5.0471687, 4.559986, 4.825947, 5.0219307, 4.870411, 5.258106, 5.4206123, 5.232685, 5.172016, 5.5706367, 5.326832, 5.2346687, 4.3871956, 4.2499275, 4.486988, 4.301197, 4.492359, 4.4735603, 4.5955086, 4.28487, 4.355915, 4.328083, 4.045765, 4.907734, 4.705921, 4.928211, 5.091816, 4.7014046, 4.309437, 4.539295, 4.320759, 4.9646187, 5.0508614, 5.1761665, 5.229725, 4.7888374, 5.250477, 5.221302, 4.9875374, 4.9918404, 4.901325, 4.4013557, 4.674122, 4.678974, 4.8933296, 4.6076546, 4.8360786, 4.770527, 4.373661, 4.7728157, 4.2821236, 4.4234505, 4.568714, 4.4657173, 4.3341255, 4.405445, 4.5598183, 4.866047, 4.280567, 4.2715645, 4.5072517, 4.260334, 4.392063, 4.349247, 4.2939186, 4.586216, 4.664768, 4.641468, 4.2304726, 4.2415657, 4.4660835, 4.476429, 4.5958443, 4.83704, 4.990345, 5.0635567, 5.274952, 5.5373116, 4.8637886, 4.678425, 4.972538, 4.402546, 3.785694, 4.043598, 4.4582863, 4.3535957, 4.3925514, 4.450123, 4.3251534, 4.3844795, 4.6378365, 4.5461006, 4.957752, 4.7542915, 4.486347, 4.442066, 4.903431, 4.884968, 4.5421944, 3.858936, 3.9608648, 4.5435066, 3.977039, 4.0033455, 4.447132, 4.1371956, 4.201893, 4.460682, 5.3065987, 4.8686104, 4.9554634, 4.9581184, 4.5068855, 4.3120613, 4.8188972, 4.372822, 4.671589, 4.1917, 4.299488, 4.9417915, 4.710682, 5.034443, 4.784321, 4.5824165, 4.313221, 3.9503362, 4.826893, 4.949543, 4.168812, 4.7746468, 4.563343, 4.205494, 4.750019, 5.592121, 4.4367867, 4.6003914, 4.1559334, 4.231312, 4.3913765, 4.5547066, 4.671467, 4.25716, 4.2984505, 4.721546, 4.7275887, 4.6539803, 4.672413, 4.953724, 4.830616, 4.819355, 4.8329964, 4.9929085, 4.8439827, 4.61504, 4.7000313, 4.677906, 4.8918953, 4.8147774, 4.7645454, 4.621113, 4.532276, 4.906666, 5.7973213, 5.8707466, 4.982441, 6.102894, 5.301655, 5.618244, 5.775318, 5.271229, 5.840412, 5.718891, 5.787464, 5.706379, 5.60326, 5.686878, 5.81316, 5.2837105, 5.042225, 4.462391, 4.976856, 4.9163094, 5.0189705, 4.786762, 4.52483, 3.6268804, 3.8862798, 4.2252693, 3.4445684, 3.8651617, 3.883106, 3.4808843, 3.8199956, 4.026722, 4.5650215, 4.4725533, 4.434681, 4.458637, 4.0297127, 4.372761, 4.5094185, 3.9314458, 4.3474617, 4.4685555, 3.9910161, 4.4301033, 4.1157722, 3.9471319, 3.869251, 4.1577034, 4.085499, 3.6146734, 3.8749273, 3.8947332, 4.238453, 4.0490913, 3.8932073, 4.3317757, 4.326557, 3.8890264, 3.8841436, 3.9741094, 4.2618904, 4.7107124, 4.9002876, 4.3203926, 4.529896, 4.328663, 4.4051094, 4.2396736, 4.2737923, 4.3002205, 4.285633, 4.7065315, 3.9905279, 4.470936, 4.676136, 4.2736397, 4.155567, 4.3505745, 4.307789, 4.165058, 4.1749763, 4.0309334, 4.1101265, 4.2444344, 3.5453374, 3.990894, 4.370167, 4.3019295, 3.943714, 4.4006233, 4.3538704, 4.092823, 3.9761236, 4.295307, 4.3852425, 4.257221, 4.233753, 4.385517, 4.5815315, 4.608021, 4.455555, 4.18108, 4.3495674, 4.7380257, 4.4439583, 4.229542, 4.2065315, 4.2601204, 4.221607, 4.1541634, 4.2968025, 7.391773, 6.714527, 6.8279305, 6.9443855, 6.3594246, 5.839283, 5.9371223, 6.152149, 6.351246, 5.2411385, 5.342457, 6.108143, 5.881275, 6.0979805, 5.8195686, 6.1147957, 6.181385, 5.913929, 5.8051643, 6.352558, 6.0055428, 5.469715, 5.592518, 5.7494392, 5.8866463, 6.3436775, 5.953388, 6.049366, 5.95409, 5.806507, 5.68169, 5.0032234, 5.35857, 5.465626, 5.865345, 5.924305, 5.76482, 5.605976, 5.3927803, 5.106159, 5.1392097, 5.72472, 5.8069344, 6.473072, 5.3068123, 5.9679146, 6.020649, 5.616749, 6.2442513, 6.03014, 5.4727364, 5.409443, 5.0149117, 5.1346016, 5.720173, 5.772175, 5.4629097, 5.9160957, 5.9390144, 6.156666, 5.969715, 5.891041, 5.790394, 5.235386, 5.576206, 5.4821053, 5.394825, 5.6779976, 5.792774, 5.0230446, 5.171406, 5.0802803, 5.018009, 5.1242867, 5.0131264, 5.9225655, 5.4965706, 5.9583015, 5.344776, 5.711994, 5.8179207, 5.420582, 5.845356, 5.9295845, 5.698078, 5.6861153, 5.4395027, 5.629566, 4.505909, 4.451954, 4.4169197, 4.752125, 4.8295174, 4.083851, 4.477009, 5.212818, 4.604664, 4.9048653, 4.735523, 5.190052, 5.022938, 4.273884, 4.538685, 5.1398506, 5.369129, 4.699787, 4.6612434, 4.798725, 4.5953865, 4.2173347, 4.9648933, 4.7975655, 4.9531136, 4.8830147, 4.801899, 5.189411, 5.204029, 5.161579, 5.0606575, 5.240986, 5.238392, 4.8398933, 4.7565804, 3.9489934, 4.344654, 4.965351, 5.3021126, 5.0128975, 5.223133, 5.1204414, 4.69228, 5.0984993, 5.484089, 4.9981575, 5.070423, 4.7711678, 4.3386726, 4.2144966, 4.90514, 5.310688, 4.5574837, 4.366474, 4.5256233, 4.3100166, 4.3942146, 4.5630074, 4.699787, 4.8991585, 5.056385, 5.028309, 4.7716866, 4.8459663, 4.874256, 5.314472, 4.3034554, 4.901844, 5.1079903, 4.6253853, 5.0429573, 5.0984383, 4.7815437, 5.14098, 5.060505, 4.822315, 5.2882576, 4.564045, 4.0971565, 4.984577, 5.199085, 5.3416634, 4.8458138, 5.0204353, 4.708088, 4.946888, 4.2574654, 4.9133186, 5.356495, 4.7795906, 5.3926888, 5.281025, 5.4922676, 5.407215, 4.809437, 5.276127, 4.7446785, 5.0686836, 4.7188606, 4.7842903, 4.8976784, 4.8136787, 4.8478737, 5.310383, 4.874958, 4.690632, 5.1730843, 5.0696144, 5.60915, 5.919422, 6.02129, 5.9494514, 5.378208, 5.6844826, 5.8317757, 5.4960823, 5.780842, 5.8644447, 5.4554634, 5.7751045, 6.028858, 6.0128365, 5.6425056, 5.212055, 5.124851, 4.870884, 5.1227455, 5.5254097, 6.396137, 5.2604866, 5.603016, 6.229389, 5.871235, 5.3726387, 4.8420906, 4.506672, 5.266865, 4.9394417, 4.731312, 4.9973335, 4.977833, 4.9344673, 4.7070503, 4.9124794, 5.220722, 5.0246162, 4.9779854, 5.0537605, 4.3443794, 4.4545174, 4.9751015, 5.0535774, 4.8741035, 5.098072, 4.9771004, 5.048786, 5.3333473, 5.294132, 4.822773, 4.948597, 4.6630745, 5.1023445, 4.8805428, 5.2115974, 5.584156, 5.078083, 5.359516, 5.5143623, 5.9276314, 5.933796, 5.2674904, 5.781391]\n"
     ]
    },
    {
     "data": {
      "image/png": "[encoded data removed]",
      "text/plain": [
       "<Figure size 432x288 with 1 Axes>"
      ]
     },
     "metadata": {
      "needs_background": "light"
     },
     "output_type": "display_data"
    }
   ],
   "source": [
    "\n",
    "testloader =  DataLoader(test_set, batch_size=1, shuffle=False)\n",
    "labels = []\n",
    "preds = []\n",
    "tp = 0\n",
    "fp = 0\n",
    "fn = 0\n",
    "tn = 0\n",
    "for i, (x, y) in enumerate(testloader):\n",
    "    #Forward pass of image through network\n",
    "    fx = model(x.to(device))\n",
    "    labels.append(y.numpy()[0][0])\n",
    "    preds.append(fx.cpu().detach().numpy()[0][0])\n",
    "    for k in range(len(y)):\n",
    "        if (fx[k] >= 6.5 and y[k] >= 6.5):\n",
    "            tp += 1\n",
    "        elif (fx[k] <6.5 and y[k] <6.5):\n",
    "            tn += 1\n",
    "        elif (fx[k] >= 6.5 and y[k] < 6.5):\n",
    "            fp += 1\n",
    "        elif (fx[k] < 6.5 and y[k] >= 6.5):\n",
    "            fn += 1\n",
    "    \n",
    "\n",
    "print(labels)\n",
    "print(preds)\n",
    "\n",
    "\n",
    "def bland_altman_plot(data1, data2, *args, **kwargs):\n",
    "    data1     = np.asarray(data1)\n",
    "    data2     = np.asarray(data2)\n",
    "    mean      = np.mean([data1, data2], axis=0)\n",
    "    diff      = data1 - data2                   # Difference between data1 and data2\n",
    "    md        = np.mean(diff)                   # Mean of the difference\n",
    "    sd        = np.std(diff, axis=0)            # Standard deviation of the difference\n",
    "\n",
    "    plt.scatter(mean, diff, *args, **kwargs)\n",
    "    plt.axhline(md,           color='gray', linestyle='--')\n",
    "    plt.axhline(md + 1.96*sd, color='gray', linestyle='--')\n",
    "    plt.axhline(md - 1.96*sd, color='gray', linestyle='--')\n",
    "\n",
    "bland_altman_plot(labels, preds)\n",
    "plt.title('Bland-Altman Plot')\n",
    "plt.show()"
   ]
  },
  {
   "cell_type": "code",
   "execution_count": 17,
   "metadata": {},
   "outputs": [
    {
     "name": "stdout",
     "output_type": "stream",
     "text": [
      "0 15\n",
      "205 477\n",
      "0.0 0.0\n"
     ]
    }
   ],
   "source": [
    "print(tp, fp)\n",
    "print(fn, tn)\n",
    "\n",
    "precision = tp/(tp+fp)\n",
    "recall = tp/(tp+fn)\n",
    "\n",
    "print(precision, recall)"
   ]
  }
 ],
 "metadata": {
  "kernelspec": {
   "display_name": "venv",
   "language": "python",
   "name": "python3"
  },
  "language_info": {
   "codemirror_mode": {
    "name": "ipython",
    "version": 3
   },
   "file_extension": ".py",
   "mimetype": "text/x-python",
   "name": "python",
   "nbconvert_exporter": "python",
   "pygments_lexer": "ipython3",
   "version": "3.10.11"
  },
  "orig_nbformat": 4
 },
 "nbformat": 4,
 "nbformat_minor": 2
}
