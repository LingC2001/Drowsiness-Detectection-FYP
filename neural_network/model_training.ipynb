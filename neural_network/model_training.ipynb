{
 "cells": [
  {
   "cell_type": "code",
   "execution_count": 49,
   "metadata": {},
   "outputs": [],
   "source": [
    "import torch\n",
    "from torch.utils.data import Dataset, DataLoader\n",
    "import torch\n",
    "import torch.nn as nn\n",
    "import torch.nn.functional as F\n",
    "import torch.optim as optim\n",
    "import torchvision\n",
    "import torchvision.transforms as transforms\n",
    "\n",
    "import os\n",
    "import random\n",
    "import numpy as np\n",
    "import matplotlib.pyplot as plt\n",
    "from IPython.display import clear_output\n",
    "\n",
    "import math\n",
    "from copy import deepcopy\n",
    "\n",
    "import pandas as pd"
   ]
  },
  {
   "cell_type": "code",
   "execution_count": 50,
   "metadata": {},
   "outputs": [],
   "source": [
    "class DrowsinessData(Dataset):\n",
    "    def __init__(self,data, trn_val_tst, transform=None):\n",
    "        split_idx1 = int(data.shape[0]*0.6)\n",
    "        split_idx2 = int(data.shape[0]*0.8)\n",
    "        if trn_val_tst == 0:\n",
    "            #trainloader\n",
    "            self.X = data.iloc[0:split_idx1, 0:-1].to_numpy()\n",
    "            self.labels = data.iloc[0:split_idx1, -1].to_numpy()\n",
    "        elif trn_val_tst == 1:\n",
    "            #valloader\n",
    "            self.X = data.iloc[split_idx1:split_idx2, 0:-1].to_numpy()\n",
    "            self.labels = data.iloc[split_idx1:split_idx2, -1].to_numpy()\n",
    "        else:\n",
    "            #testloader\n",
    "            self.X = data.iloc[split_idx1:split_idx2, 0:-1].to_numpy()\n",
    "            self.labels = data.iloc[split_idx1:split_idx2, -1].to_numpy()\n",
    "            \n",
    "        self.transform = transform\n",
    "\n",
    "    def __len__(self):\n",
    "        return len(self.labels)\n",
    "\n",
    "    def __getitem__(self, idx):\n",
    "        if torch.is_tensor(idx):\n",
    "            idx = idx.tolist()\n",
    "\n",
    "        sample = self.X[idx,:]\n",
    "        label = self.labels[idx]\n",
    "\n",
    "        # if self.transform:\n",
    "        #     sample = self.transform(sample)\n",
    "        sample = torch.from_numpy(sample).type(torch.float32)\n",
    "        label = torch.tensor(label, dtype=torch.float32).unsqueeze(0)\n",
    "\n",
    "        return sample, label"
   ]
  },
  {
   "cell_type": "code",
   "execution_count": 51,
   "metadata": {},
   "outputs": [
    {
     "name": "stdout",
     "output_type": "stream",
     "text": [
      "(3528, 19)\n"
     ]
    }
   ],
   "source": [
    "data = pd.read_csv(\"features_and_labels_30s.csv\")\n",
    "\n",
    "# selected features from MRMR algorithm + basic features + good t-test ones\n",
    "filter_features = ['MDF', 'lfnu', 'bandPower(){}_2_beta', 'time_in_session', 'bandPower(){}_1_beta', 'Sh_Ent1', 'MNF', 'Sp_ent2', 'PKF', 'nni_50', 'Sp_ent1', 'DFA(){}_2', 'csi', 'ZC', 'LZC(){}_0', 'bandPower(){}_1_delta', 'mean_hr', 'EAR_std', 'kss']\n",
    "data = data.loc[:, filter_features]\n",
    "print(data.shape)\n",
    "\n",
    "data = data.sample(frac=1).reset_index(drop=True)\n",
    "\n",
    "train_set = DrowsinessData(data, trn_val_tst=0) \n",
    "val_set = DrowsinessData(data, trn_val_tst=1)\n",
    "test_set = DrowsinessData(data, trn_val_tst=2)\n",
    "\n",
    "batch_size = 100 \n",
    "trainloader = DataLoader(train_set, batch_size=batch_size, shuffle=True)\n",
    "\n",
    "validloader = DataLoader(val_set, batch_size=batch_size, shuffle=False)\n",
    "\n",
    "testloader =  DataLoader(test_set, batch_size=batch_size, shuffle=False)\n",
    "\n",
    "num_features = train_set.X.shape[1]"
   ]
  },
  {
   "cell_type": "code",
   "execution_count": 52,
   "metadata": {},
   "outputs": [],
   "source": [
    "#This function should perform a single evaluation epoch, it WILL NOT be used to train our model\n",
    "def evaluate(model, device, loader, loss_fun):\n",
    "    #initialise counter\n",
    "    total_loss = 0\n",
    "    \n",
    "    #Set network in evaluation mode\n",
    "    #Layers like Dropout will be disabled\n",
    "    #Layers like Batchnorm will stop calculating running mean and standard deviation\n",
    "    #and use current stored values\n",
    "    #(More on these layer types soon!)\n",
    "    model.eval()\n",
    "    \n",
    "    with torch.no_grad():\n",
    "        for i, (x, y) in enumerate(loader):\n",
    "            #Forward pass of image through network\n",
    "            fx = model(x.to(device))\n",
    "            y = y.type(torch.FloatTensor)\n",
    "            \n",
    "            #calculate the loss\n",
    "            loss = loss_fun(fx, y.to(device))\n",
    "            total_loss += loss.item()\n",
    "    \n",
    "    #return the accuracy from the epoch     \n",
    "    return total_loss"
   ]
  },
  {
   "cell_type": "code",
   "execution_count": 53,
   "metadata": {},
   "outputs": [],
   "source": [
    "def get_acc(model, device, loader):\n",
    "    total_loss = 0\n",
    "    total_count = 0\n",
    "    correct_count = 0\n",
    "    #Set network in evaluation mode\n",
    "    #Layers like Dropout will be disabled\n",
    "    #Layers like Batchnorm will stop calculating running mean and standard deviation\n",
    "    #and use current stored values\n",
    "    #(More on these layer types soon!)\n",
    "    model.eval()\n",
    "    \n",
    "    with torch.no_grad():\n",
    "        for i, (x, y) in enumerate(loader):\n",
    "            #Forward pass of image through network\n",
    "            fx = model(x.to(device)).squeeze(1).cpu().numpy().tolist()\n",
    "            y = y.type(torch.FloatTensor).squeeze(1).cpu().numpy().tolist()\n",
    "            \n",
    "            for k in range(len(y)):\n",
    "                total_count += 1\n",
    "                if (fx[k] >= 6.5 and y[k] >= 6.5) or (fx[k] <6.5 and y[k] <6.5):\n",
    "                    correct_count += 1\n",
    "    \n",
    "    #return the accuracy from the epoch     \n",
    "    return correct_count/total_count"
   ]
  },
  {
   "cell_type": "code",
   "execution_count": 54,
   "metadata": {},
   "outputs": [],
   "source": [
    "#This function should perform a single training epoch using our training data\n",
    "def train(model, device, loader, optimizer, loss_fun, loss_logger):\n",
    "    \n",
    "    #Set Network in train mode\n",
    "    model.train()\n",
    "    \n",
    "    count = 0\n",
    "    total_loss = 0\n",
    "    \n",
    "    for i, (x, y) in enumerate(loader):\n",
    "        #Perform a single epoch of training on the input dataloader, logging the loss at every step \n",
    "        #Forward pass of image through network and get output\n",
    "        fx = model(x.to(device))\n",
    "        y = y.type(torch.FloatTensor)\n",
    "\n",
    "        #Calculate loss using loss function\n",
    "        loss = loss_fun(fx, y.to(device))\n",
    "        \n",
    "        total_loss += loss.item()\n",
    "        \n",
    "        #Zero Gradents\n",
    "        optimizer.zero_grad()\n",
    "        #Backpropagate Gradents\n",
    "        loss.backward()\n",
    "        #Do a single optimization step\n",
    "        optimizer.step()\n",
    "\n",
    "    #log the loss PER EPOCH for plotting\n",
    "    loss_logger.append(total_loss)\n",
    "   \n",
    "    #return the logger array       \n",
    "    return loss_logger"
   ]
  },
  {
   "cell_type": "code",
   "execution_count": 55,
   "metadata": {},
   "outputs": [],
   "source": [
    "class DrowsyNet(nn.Module):\n",
    "    def __init__(self, channels_in):\n",
    "        # calling the init function of the parent nn.Module\n",
    "        super(DrowsyNet, self).__init__()\n",
    "        \n",
    "        # defining the fully connected layers\n",
    "        print(channels_in)\n",
    "        self.fc1 = nn.Linear(int(channels_in), int(channels_in//1.5))\n",
    "        self.fc2 = nn.Linear(int(channels_in//1.5), int(channels_in//3))\n",
    "        self.fc3 = nn.Linear(int(channels_in//3), 1)\n",
    "        \n",
    "    def forward(self, x):\n",
    "        # Passing it through fc layers\n",
    "        x = self.fc1(x)\n",
    "        x = F.relu(x)\n",
    "        x = self.fc2(x)\n",
    "        x = F.relu(x)\n",
    "        x = self.fc3(x)\n",
    "        return x"
   ]
  },
  {
   "cell_type": "code",
   "execution_count": 56,
   "metadata": {},
   "outputs": [
    {
     "name": "stdout",
     "output_type": "stream",
     "text": [
      "18\n",
      "DrowsyNet(\n",
      "  (fc1): Linear(in_features=18, out_features=12, bias=True)\n",
      "  (fc2): Linear(in_features=12, out_features=6, bias=True)\n",
      "  (fc3): Linear(in_features=6, out_features=1, bias=True)\n",
      ")\n",
      "313 313\n"
     ]
    }
   ],
   "source": [
    "# Creating the model\n",
    "GPU_indx = 0\n",
    "device = torch.device(GPU_indx if torch.cuda.is_available() else 'cpu')\n",
    "model = DrowsyNet(num_features).to(device)\n",
    "print(model)\n",
    "\n",
    "pytorch_total_params = sum([p.numel() for p in model.parameters()])\n",
    "pytorch_total_trainable_params = sum([p.numel() for p in model.parameters() if p.requires_grad])\n",
    "print(pytorch_total_params, pytorch_total_trainable_params)\n",
    "\n",
    "learning_rate =5e-4\n",
    "start_epoch = 0\n",
    "num_epochs = 500\n",
    "\n",
    "optimizer = optim.Adam(model.parameters(), lr = learning_rate)\n",
    "loss_fun = nn.MSELoss()"
   ]
  },
  {
   "cell_type": "code",
   "execution_count": 57,
   "metadata": {},
   "outputs": [
    {
     "name": "stdout",
     "output_type": "stream",
     "text": [
      "| Epoch: 500 | Training Loss: 32.00 | Validation Loss: 13.02 | Testing Loss: 13.02\n",
      "| Epoch: 500 | Training RMSE: 05.66 | Validation RMSE: 03.61 | Testing RMSE: 03.61\n",
      "| Epoch: 500 | Training Acc: 84.74% | Validation Acc: 88.39% | Testing Acc: 88.39%\n",
      "Training Complete\n",
      "Highest Validation Acc: 0.8895184135977338\n"
     ]
    }
   ],
   "source": [
    "training_loss_logger = []\n",
    "validation_loss_logger = []\n",
    "testing_loss_logger = []\n",
    "\n",
    "valid_acc_logger = []\n",
    "test_acc_logger = []\n",
    "\n",
    "highest_val_acc = -math.inf\n",
    "\n",
    "\n",
    "#This cell implements our training loop\n",
    "for epoch in range(start_epoch, num_epochs):\n",
    "    #call the training function and pass training dataloader etc\n",
    "    training_loss_logger = train(model, device, trainloader, optimizer, loss_fun, training_loss_logger)\n",
    "    train_acc = get_acc(model, device, trainloader)\n",
    "    #call the evaluate function and pass the dataloader for both ailidation and training\n",
    "    \n",
    "    valid_loss = evaluate(model, device, validloader, loss_fun)\n",
    "    validation_loss_logger.append(valid_loss)\n",
    "    valid_acc = get_acc(model, device, validloader)\n",
    "    valid_acc_logger.append(valid_acc)\n",
    "\n",
    "\n",
    "    test_loss = evaluate(model, device, testloader, loss_fun)\n",
    "    testing_loss_logger.append(test_loss)\n",
    "    test_acc = get_acc(model, device, testloader)\n",
    "    test_acc_logger.append(test_acc)\n",
    "\n",
    "    # Copying the model with the highest validation accuracy\n",
    "    if valid_acc > highest_val_acc:\n",
    "        highest_val_acc_epoch = epoch\n",
    "        highest_val_acc = valid_acc\n",
    "        highest_val_acc_model = deepcopy(model)\n",
    "    \n",
    "    clear_output(True)\n",
    "    print(f'| Epoch: {epoch+1:02} | Training Loss: {training_loss_logger[-1]:05.2f} | Validation Loss: {validation_loss_logger[-1]:05.2f} | Testing Loss: {testing_loss_logger[-1]:05.2f}')\n",
    "    print(f'| Epoch: {epoch+1:02} | Training RMSE: {np.sqrt(training_loss_logger[-1]):05.2f} | Validation RMSE: {np.sqrt(validation_loss_logger[-1]):05.2f} | Testing RMSE: {np.sqrt(testing_loss_logger[-1]):05.2f}')\n",
    "    print(f'| Epoch: {epoch+1:02} | Training Acc: {train_acc*100:05.2f}% | Validation Acc: {valid_acc*100:05.2f}% | Testing Acc: {test_acc*100:05.2f}%')\n",
    "print(\"Training Complete\")\n",
    "print(f'Highest Validation Acc: {highest_val_acc}')"
   ]
  },
  {
   "cell_type": "code",
   "execution_count": 60,
   "metadata": {},
   "outputs": [
    {
     "data": {
      "text/plain": [
       "Text(0.5, 1.0, 'Testing Accuracy')"
      ]
     },
     "execution_count": 60,
     "metadata": {},
     "output_type": "execute_result"
    },
    {
     "data": {
      "image/png": "[encoded data removed]",
      "text/plain": [
       "<Figure size 432x288 with 1 Axes>"
      ]
     },
     "metadata": {
      "needs_background": "light"
     },
     "output_type": "display_data"
    },
    {
     "data": {
      "image/png": "[encoded data removed]",
      "text/plain": [
       "<Figure size 432x288 with 1 Axes>"
      ]
     },
     "metadata": {
      "needs_background": "light"
     },
     "output_type": "display_data"
    },
    {
     "data": {
      "image/png": "[encoded data removed]",
      "text/plain": [
       "<Figure size 432x288 with 1 Axes>"
      ]
     },
     "metadata": {
      "needs_background": "light"
     },
     "output_type": "display_data"
    },
    {
     "data": {
      "image/png": "[encoded data removed]",
      "text/plain": [
       "<Figure size 432x288 with 1 Axes>"
      ]
     },
     "metadata": {
      "needs_background": "light"
     },
     "output_type": "display_data"
    },
    {
     "data": {
      "image/png": "[encoded data removed]",
      "text/plain": [
       "<Figure size 432x288 with 1 Axes>"
      ]
     },
     "metadata": {
      "needs_background": "light"
     },
     "output_type": "display_data"
    }
   ],
   "source": [
    "# Plotting\n",
    "plt.figure(1)\n",
    "plt.plot(training_loss_logger)\n",
    "plt.ylabel(\"MSE Loss\")\n",
    "plt.xlabel(\"Epoch\")\n",
    "plt.title(\"Training Loss\")\n",
    "\n",
    "plt.figure(2)\n",
    "plt.plot(validation_loss_logger)\n",
    "plt.ylabel(\"MSE Loss\")\n",
    "plt.xlabel(\"Epoch\")\n",
    "plt.title(\"Validation Loss\")\n",
    "\n",
    "plt.figure(22)\n",
    "plt.plot(valid_acc_logger)\n",
    "plt.ylabel(\"Accuracy %\")\n",
    "plt.xlabel(\"Epoch\")\n",
    "plt.title(\"Validation Accuracy\")\n",
    "plt.plot(highest_val_acc_epoch, highest_val_acc, \"ro\")\n",
    "\n",
    "plt.figure(3)\n",
    "plt.plot(testing_loss_logger)\n",
    "plt.ylabel(\"MSE Loss\")\n",
    "plt.xlabel(\"Epoch\")\n",
    "plt.title(\"Testing Loss\")\n",
    "\n",
    "plt.figure(33)\n",
    "plt.plot(test_acc_logger)\n",
    "plt.ylabel(\"Accuracy %\")\n",
    "plt.xlabel(\"Epoch\")\n",
    "plt.title(\"Testing Accuracy\")"
   ]
  },
  {
   "cell_type": "code",
   "execution_count": 61,
   "metadata": {},
   "outputs": [],
   "source": [
    "# Saving model\n",
    "torch.save(model.state_dict(), \"D:/School/Drowsiness-Detection-FYP/neural_network/best_model.pt\")\n"
   ]
  }
 ],
 "metadata": {
  "kernelspec": {
   "display_name": ".venv",
   "language": "python",
   "name": "python3"
  },
  "language_info": {
   "codemirror_mode": {
    "name": "ipython",
    "version": 3
   },
   "file_extension": ".py",
   "mimetype": "text/x-python",
   "name": "python",
   "nbconvert_exporter": "python",
   "pygments_lexer": "ipython3",
   "version": "3.10.11"
  },
  "orig_nbformat": 4
 },
 "nbformat": 4,
 "nbformat_minor": 2
}
